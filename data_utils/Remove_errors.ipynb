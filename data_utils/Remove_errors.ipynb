{
 "cells": [
  {
   "cell_type": "code",
   "execution_count": 2,
   "id": "4e8f11ed",
   "metadata": {},
   "outputs": [],
   "source": [
    "# import json\n",
    "import ast\n",
    "from tqdm import tqdm_notebook\n",
    "\n",
    "import numpy as np\n",
    "import pandas as pd\n",
    "\n",
    "import warnings\n",
    "warnings.filterwarnings('ignore')"
   ]
  },
  {
   "cell_type": "code",
   "execution_count": 2,
   "id": "04a7424a",
   "metadata": {},
   "outputs": [],
   "source": [
    "pd.options.display.max_colwidth = 150"
   ]
  },
  {
   "cell_type": "markdown",
   "id": "e9f32e6a",
   "metadata": {},
   "source": [
    "# Импорт данных"
   ]
  },
  {
   "cell_type": "code",
   "execution_count": 4,
   "id": "5630e35e",
   "metadata": {},
   "outputs": [],
   "source": [
    "dataset = pd.read_parquet(\"../data/full_dataset.parquet\")\n",
    "etl = pd.read_parquet(\"../data/train_data.parquet\")"
   ]
  },
  {
   "cell_type": "code",
   "execution_count": 5,
   "id": "b297f2da",
   "metadata": {},
   "outputs": [
    {
     "data": {
      "text/html": [
       "<div>\n",
       "<style scoped>\n",
       "    .dataframe tbody tr th:only-of-type {\n",
       "        vertical-align: middle;\n",
       "    }\n",
       "\n",
       "    .dataframe tbody tr th {\n",
       "        vertical-align: top;\n",
       "    }\n",
       "\n",
       "    .dataframe thead th {\n",
       "        text-align: right;\n",
       "    }\n",
       "</style>\n",
       "<table border=\"1\" class=\"dataframe\">\n",
       "  <thead>\n",
       "    <tr style=\"text-align: right;\">\n",
       "      <th></th>\n",
       "      <th>variantid1</th>\n",
       "      <th>variantid2</th>\n",
       "      <th>target</th>\n",
       "    </tr>\n",
       "  </thead>\n",
       "  <tbody>\n",
       "    <tr>\n",
       "      <th>0</th>\n",
       "      <td>587809782</td>\n",
       "      <td>615149925</td>\n",
       "      <td>1.0</td>\n",
       "    </tr>\n",
       "    <tr>\n",
       "      <th>1</th>\n",
       "      <td>89598677</td>\n",
       "      <td>89581630</td>\n",
       "      <td>1.0</td>\n",
       "    </tr>\n",
       "    <tr>\n",
       "      <th>2</th>\n",
       "      <td>539055461</td>\n",
       "      <td>381713564</td>\n",
       "      <td>1.0</td>\n",
       "    </tr>\n",
       "    <tr>\n",
       "      <th>3</th>\n",
       "      <td>539055461</td>\n",
       "      <td>358974091</td>\n",
       "      <td>1.0</td>\n",
       "    </tr>\n",
       "    <tr>\n",
       "      <th>4</th>\n",
       "      <td>381713564</td>\n",
       "      <td>358974091</td>\n",
       "      <td>1.0</td>\n",
       "    </tr>\n",
       "  </tbody>\n",
       "</table>\n",
       "</div>"
      ],
      "text/plain": [
       "   variantid1  variantid2  target\n",
       "0   587809782   615149925     1.0\n",
       "1    89598677    89581630     1.0\n",
       "2   539055461   381713564     1.0\n",
       "3   539055461   358974091     1.0\n",
       "4   381713564   358974091     1.0"
      ]
     },
     "execution_count": 5,
     "metadata": {},
     "output_type": "execute_result"
    }
   ],
   "source": [
    "dataset.head()"
   ]
  },
  {
   "cell_type": "code",
   "execution_count": 6,
   "id": "b79d0d34",
   "metadata": {},
   "outputs": [],
   "source": [
    "# Пары + признаки\n",
    "features = (\n",
    "    dataset\n",
    "    .merge(\n",
    "        etl\n",
    "        .add_suffix('1'),\n",
    "        on=\"variantid1\"\n",
    "    )\n",
    "    .merge(\n",
    "        etl\n",
    "        .add_suffix('2'),\n",
    "        on=\"variantid2\"\n",
    "    )\n",
    ")"
   ]
  },
  {
   "cell_type": "code",
   "execution_count": 35,
   "id": "73a3e357",
   "metadata": {},
   "outputs": [],
   "source": [
    "df = features[['target', 'variantid1', 'variantid2', 'categories1', 'categories2','name1', 'name2','characteristic_attributes_mapping1', 'characteristic_attributes_mapping2']]"
   ]
  },
  {
   "cell_type": "markdown",
   "id": "8ac23d15",
   "metadata": {},
   "source": [
    "# Categories\n",
    "* сравниваю словари категорий в разрезе таргета, кажется что в парах с целевой меткой доля одинаковых словарей должна быть больше"
   ]
  },
  {
   "cell_type": "code",
   "execution_count": 36,
   "id": "ffa7d973",
   "metadata": {},
   "outputs": [],
   "source": [
    "def compare_dicts(row):\n",
    "    \"\"\"\n",
    "    Функция сравнивает 2 строки-словаря друг с другом.\n",
    "    \"\"\"\n",
    "    return row['categories1'] == row['categories2']\n",
    "\n",
    "\n",
    "df['categories1'] = df['categories1'].str.lower()\n",
    "df['categories2'] = df['categories2'].str.lower()\n",
    "df['comparison_result'] = df.apply(compare_dicts, axis=1) * 1"
   ]
  },
  {
   "cell_type": "code",
   "execution_count": 37,
   "id": "9d4da356",
   "metadata": {},
   "outputs": [
    {
     "data": {
      "text/html": [
       "<div>\n",
       "<style scoped>\n",
       "    .dataframe tbody tr th:only-of-type {\n",
       "        vertical-align: middle;\n",
       "    }\n",
       "\n",
       "    .dataframe tbody tr th {\n",
       "        vertical-align: top;\n",
       "    }\n",
       "\n",
       "    .dataframe thead th {\n",
       "        text-align: right;\n",
       "    }\n",
       "</style>\n",
       "<table border=\"1\" class=\"dataframe\">\n",
       "  <thead>\n",
       "    <tr style=\"text-align: right;\">\n",
       "      <th></th>\n",
       "      <th>target</th>\n",
       "      <th>comparison_result</th>\n",
       "    </tr>\n",
       "  </thead>\n",
       "  <tbody>\n",
       "    <tr>\n",
       "      <th>0</th>\n",
       "      <td>0.0</td>\n",
       "      <td>0.976944</td>\n",
       "    </tr>\n",
       "    <tr>\n",
       "      <th>1</th>\n",
       "      <td>1.0</td>\n",
       "      <td>0.967852</td>\n",
       "    </tr>\n",
       "  </tbody>\n",
       "</table>\n",
       "</div>"
      ],
      "text/plain": [
       "   target  comparison_result\n",
       "0     0.0           0.976944\n",
       "1     1.0           0.967852"
      ]
     },
     "execution_count": 37,
     "metadata": {},
     "output_type": "execute_result"
    }
   ],
   "source": [
    "df.groupby('target', as_index=False).agg({'comparison_result':np.mean})"
   ]
  },
  {
   "cell_type": "markdown",
   "id": "bbc961c0",
   "metadata": {},
   "source": [
    "* как то странно, казалось что в парах с таргетом совпадений должно быть больше\n",
    "* посмотрим на такие странные пары"
   ]
  },
  {
   "cell_type": "code",
   "execution_count": 38,
   "id": "cb3140de",
   "metadata": {},
   "outputs": [],
   "source": [
    "cat_missmatch = df[(df['target'] == 1) & (df['comparison_result'] == 0)]"
   ]
  },
  {
   "cell_type": "code",
   "execution_count": 39,
   "id": "4ebf7500",
   "metadata": {},
   "outputs": [],
   "source": [
    "def miss_match_info(cat_missmatch):\n",
    "    \"\"\"\n",
    "    Функция берет на вход дф со строками словарями категорий.\n",
    "    Возвращает новый дф с тремя столбцами:\n",
    "    missmatch_cat - 1й уровень категории где есть различие в паре. Если расхождение было в категориях 2,3,4 то вернется 2.\n",
    "    miss_match_obj - словарь, где ключ - категория с мисметчем по паре, значение - кортеж с названиями категорий\n",
    "    missmatch_cat_cnt - в скольких уровнях был мисметч. Если расхождение было в категориях 2,3,4 то вернется 3.\n",
    "    \"\"\"\n",
    "\n",
    "    miss_match_series = pd.Series(index=cat_missmatch.index, dtype='object')\n",
    "    miss_match_category = pd.Series(index=cat_missmatch.index, dtype='int8')\n",
    "    miss_match_count_category = pd.Series(index=cat_missmatch.index, dtype='int8')\n",
    "\n",
    "    for i in cat_missmatch.index:\n",
    "        cat1_dict = ast.literal_eval(cat_missmatch.loc[i,'categories1'])\n",
    "        cat2_dict = ast.literal_eval(cat_missmatch.loc[i,'categories2'])\n",
    "        if len(cat1_dict) == len(cat2_dict):\n",
    "            miss_match_dict = {}\n",
    "            cat_list = []\n",
    "            for key in cat1_dict.keys():\n",
    "\n",
    "                if cat1_dict[key] != cat2_dict[key]:\n",
    "                    miss_match_dict[key] = tuple((cat1_dict[key], cat2_dict[key]))\n",
    "                    miss_match_series.loc[i] = str(miss_match_dict)\n",
    "                    cat_list.append(int(key))\n",
    "            miss_match_category.loc[i] = min(cat_list)\n",
    "            miss_match_count_category.loc[i] = len(cat_list)\n",
    "            \n",
    "    return pd.concat([miss_match_category, miss_match_series, miss_match_count_category], ignore_index=False, axis=1)"
   ]
  },
  {
   "cell_type": "code",
   "execution_count": 40,
   "id": "4f942628",
   "metadata": {},
   "outputs": [],
   "source": [
    "cat_missmatch = pd.concat([cat_missmatch, miss_match_info(cat_missmatch)], ignore_index=False, axis=1)"
   ]
  },
  {
   "cell_type": "code",
   "execution_count": 31,
   "id": "9703e285",
   "metadata": {},
   "outputs": [
    {
     "data": {
      "text/html": [
       "<div>\n",
       "<style scoped>\n",
       "    .dataframe tbody tr th:only-of-type {\n",
       "        vertical-align: middle;\n",
       "    }\n",
       "\n",
       "    .dataframe tbody tr th {\n",
       "        vertical-align: top;\n",
       "    }\n",
       "\n",
       "    .dataframe thead th {\n",
       "        text-align: right;\n",
       "    }\n",
       "</style>\n",
       "<table border=\"1\" class=\"dataframe\">\n",
       "  <thead>\n",
       "    <tr style=\"text-align: right;\">\n",
       "      <th></th>\n",
       "      <th>target</th>\n",
       "      <th>categories1</th>\n",
       "      <th>categories2</th>\n",
       "      <th>name1</th>\n",
       "      <th>name2</th>\n",
       "      <th>characteristic_attributes_mapping1</th>\n",
       "      <th>characteristic_attributes_mapping2</th>\n",
       "      <th>comparison_result</th>\n",
       "      <th>missmatch_cat</th>\n",
       "      <th>miss_match_obj</th>\n",
       "      <th>missmatch_cat_cnt</th>\n",
       "    </tr>\n",
       "  </thead>\n",
       "  <tbody>\n",
       "    <tr>\n",
       "      <th>29</th>\n",
       "      <td>1.0</td>\n",
       "      <td>{\"1\": \"epg\", \"2\": \"электроника\", \"3\": \"жесткие диски, ssd и сетевые накопители\", \"4\": \"внутренний hdd\"}</td>\n",
       "      <td>{\"1\": \"epg\", \"2\": \"электроника\", \"3\": \"жесткие диски, ssd и сетевые накопители\", \"4\": \"внешний hdd\"}</td>\n",
       "      <td>Внутренний жесткий диск Netac Внешний жесткий диск 2,5 1TB K331-1T черный (Внешний жесткий диск 2,5 1TB Netac K331-1T черный)</td>\n",
       "      <td>Внешний жесткий диск Netac NT05K331N-001T-30BK (6926337220963), черный</td>\n",
       "      <td>{\"Тип\":[\"Внутренний жесткий диск\"],\"Бренд\":[\"Netac\"]}</td>\n",
       "      <td>{\"Тип\":[\"Внешний накопитель\"],\"Комплектация\":[\"Кабель usb\"],\"Скорость чтения, Мб/с\":[\"120\"],\"Гарантийный срок\":[\"36 мес.\"],\"Цвет товара\":[\"черный\"...</td>\n",
       "      <td>0</td>\n",
       "      <td>4.0</td>\n",
       "      <td>{'4': ('внутренний hdd', 'внешний hdd')}</td>\n",
       "      <td>1.0</td>\n",
       "    </tr>\n",
       "    <tr>\n",
       "      <th>42</th>\n",
       "      <td>1.0</td>\n",
       "      <td>{\"1\": \"epg\", \"2\": \"электроника\", \"3\": \"рюкзаки, чехлы, сумки\", \"4\": \"рюкзак для ноутбука\"}</td>\n",
       "      <td>{\"1\": \"epg\", \"2\": \"электроника\", \"3\": \"рюкзаки, чехлы, сумки\", \"4\": \"сумка для ноутбука\"}</td>\n",
       "      <td>Рюкзак для ноутбука 15\" HP RENEW</td>\n",
       "      <td>Рюкзак для ноутбука 15.6\" HP Renew 14 Backpack (1A212AA), полиэстер, синий</td>\n",
       "      <td>{\"Максимальный размер ноутбука, дюймы\":[\"15\"],\"Тип\":[\"Рюкзак для ноутбука\"],\"Количество внутренних отделений\":[\"7\"],\"Количество внешних карманов\":...</td>\n",
       "      <td>{\"Внешние размеры, мм\":[\"435х295х100\"],\"Пол\":[\"Женский\",\"Мужской\"],\"Количество внешних карманов\":[\"1\"],\"Застежка\":[\"Молния\"],\"Тип\":[\"Рюкзак для но...</td>\n",
       "      <td>0</td>\n",
       "      <td>4.0</td>\n",
       "      <td>{'4': ('рюкзак для ноутбука', 'сумка для ноутбука')}</td>\n",
       "      <td>1.0</td>\n",
       "    </tr>\n",
       "    <tr>\n",
       "      <th>43</th>\n",
       "      <td>1.0</td>\n",
       "      <td>{\"1\": \"epg\", \"2\": \"электроника\", \"3\": \"рюкзаки, чехлы, сумки\", \"4\": \"рюкзак для ноутбука\"}</td>\n",
       "      <td>{\"1\": \"epg\", \"2\": \"электроника\", \"3\": \"рюкзаки, чехлы, сумки\", \"4\": \"сумка для ноутбука\"}</td>\n",
       "      <td>Рюкзак для ноутбука 15.6\" HP Renew 14 Backpack (1A212AA), полиэстер, синий</td>\n",
       "      <td>Рюкзак для ноутбука 15.6\" HP Renew 14 Backpack (1A212AA), полиэстер, синий</td>\n",
       "      <td>{\"Гарантийный срок\":[\"12 месяцев\"],\"Цвет товара\":[\"синий\"],\"Тип\":[\"Рюкзак для ноутбука\"],\"Количество внешних карманов\":[\"1\"],\"Количество внутренни...</td>\n",
       "      <td>{\"Внешние размеры, мм\":[\"435х295х100\"],\"Пол\":[\"Женский\",\"Мужской\"],\"Количество внешних карманов\":[\"1\"],\"Застежка\":[\"Молния\"],\"Тип\":[\"Рюкзак для но...</td>\n",
       "      <td>0</td>\n",
       "      <td>4.0</td>\n",
       "      <td>{'4': ('рюкзак для ноутбука', 'сумка для ноутбука')}</td>\n",
       "      <td>1.0</td>\n",
       "    </tr>\n",
       "    <tr>\n",
       "      <th>45</th>\n",
       "      <td>1.0</td>\n",
       "      <td>{\"1\": \"epg\", \"2\": \"электроника\", \"3\": \"рюкзаки, чехлы, сумки\", \"4\": \"сумка для ноутбука\"}</td>\n",
       "      <td>{\"1\": \"epg\", \"2\": \"электроника\", \"3\": \"рюкзаки, чехлы, сумки\", \"4\": \"рюкзак для ноутбука\"}</td>\n",
       "      <td>Рюкзак для ноутбука 15.6\" HP Renew 14 Backpack (1A212AA), полиэстер, синий</td>\n",
       "      <td>Рюкзак для ноутбука 15.6, HP RENEW Navy Backpack, син, 1A212AA</td>\n",
       "      <td>{\"Внешние размеры, мм\":[\"435х295х100\"],\"Пол\":[\"Женский\",\"Мужской\"],\"Количество внешних карманов\":[\"1\"],\"Застежка\":[\"Молния\"],\"Тип\":[\"Рюкзак для но...</td>\n",
       "      <td>{\"Цвет товара\":[\"синий\"],\"Максимальный размер ноутбука, дюймы\":[\"15\"],\"Тип\":[\"Рюкзак для ноутбука\"],\"Количество внутренних отделений\":[\"2\"],\"Бренд...</td>\n",
       "      <td>0</td>\n",
       "      <td>4.0</td>\n",
       "      <td>{'4': ('сумка для ноутбука', 'рюкзак для ноутбука')}</td>\n",
       "      <td>1.0</td>\n",
       "    </tr>\n",
       "    <tr>\n",
       "      <th>58</th>\n",
       "      <td>1.0</td>\n",
       "      <td>{\"1\": \"epg\", \"2\": \"электроника\", \"3\": \"видеокамеры\", \"4\": \"видеокамера\"}</td>\n",
       "      <td>{\"1\": \"epg\", \"2\": \"электроника\", \"3\": \"видеонаблюдение\", \"4\": \"система видеонаблюдения\"}</td>\n",
       "      <td>Видеокамера Hikvision DS-2CD2123G0E-I 2.8мм (DS-2CD2123G0E-I)</td>\n",
       "      <td>Видеокамера IP Hikvision DS-2CD2123G0-IS</td>\n",
       "      <td>{\"Бренд\":[\"Hikvision\"],\"Гарантийный срок\":[\"официальная гарантия производителя\"],\"Тип\":[\"Видеокамера\"],\"Цвет товара\":[\"белый\"]}</td>\n",
       "      <td>{\"Скорость съемки в макс. разрешении, кадр/с\":[\"25\"],\"Материал корпуса камеры\":[\"Металл\"],\"Рабочая диафрагма, F\":[\"2\"],\"Цвет товара\":[\"белый\"],\"Ти...</td>\n",
       "      <td>0</td>\n",
       "      <td>3.0</td>\n",
       "      <td>{'3': ('видеокамеры', 'видеонаблюдение'), '4': ('видеокамера', 'система видеонаблюдения')}</td>\n",
       "      <td>2.0</td>\n",
       "    </tr>\n",
       "  </tbody>\n",
       "</table>\n",
       "</div>"
      ],
      "text/plain": [
       "    target   \n",
       "29     1.0  \\\n",
       "42     1.0   \n",
       "43     1.0   \n",
       "45     1.0   \n",
       "58     1.0   \n",
       "\n",
       "                                                                                                categories1   \n",
       "29  {\"1\": \"epg\", \"2\": \"электроника\", \"3\": \"жесткие диски, ssd и сетевые накопители\", \"4\": \"внутренний hdd\"}  \\\n",
       "42               {\"1\": \"epg\", \"2\": \"электроника\", \"3\": \"рюкзаки, чехлы, сумки\", \"4\": \"рюкзак для ноутбука\"}   \n",
       "43               {\"1\": \"epg\", \"2\": \"электроника\", \"3\": \"рюкзаки, чехлы, сумки\", \"4\": \"рюкзак для ноутбука\"}   \n",
       "45                {\"1\": \"epg\", \"2\": \"электроника\", \"3\": \"рюкзаки, чехлы, сумки\", \"4\": \"сумка для ноутбука\"}   \n",
       "58                                 {\"1\": \"epg\", \"2\": \"электроника\", \"3\": \"видеокамеры\", \"4\": \"видеокамера\"}   \n",
       "\n",
       "                                                                                             categories2   \n",
       "29  {\"1\": \"epg\", \"2\": \"электроника\", \"3\": \"жесткие диски, ssd и сетевые накопители\", \"4\": \"внешний hdd\"}  \\\n",
       "42             {\"1\": \"epg\", \"2\": \"электроника\", \"3\": \"рюкзаки, чехлы, сумки\", \"4\": \"сумка для ноутбука\"}   \n",
       "43             {\"1\": \"epg\", \"2\": \"электроника\", \"3\": \"рюкзаки, чехлы, сумки\", \"4\": \"сумка для ноутбука\"}   \n",
       "45            {\"1\": \"epg\", \"2\": \"электроника\", \"3\": \"рюкзаки, чехлы, сумки\", \"4\": \"рюкзак для ноутбука\"}   \n",
       "58              {\"1\": \"epg\", \"2\": \"электроника\", \"3\": \"видеонаблюдение\", \"4\": \"система видеонаблюдения\"}   \n",
       "\n",
       "                                                                                                                             name1   \n",
       "29   Внутренний жесткий диск Netac Внешний жесткий диск 2,5 1TB K331-1T черный (Внешний жесткий диск 2,5 1TB Netac K331-1T черный)  \\\n",
       "42                                                                                                Рюкзак для ноутбука 15\" HP RENEW   \n",
       "43                                                      Рюкзак для ноутбука 15.6\" HP Renew 14 Backpack (1A212AA), полиэстер, синий   \n",
       "45                                                      Рюкзак для ноутбука 15.6\" HP Renew 14 Backpack (1A212AA), полиэстер, синий   \n",
       "58                                                                   Видеокамера Hikvision DS-2CD2123G0E-I 2.8мм (DS-2CD2123G0E-I)   \n",
       "\n",
       "                                                                         name2   \n",
       "29      Внешний жесткий диск Netac NT05K331N-001T-30BK (6926337220963), черный  \\\n",
       "42  Рюкзак для ноутбука 15.6\" HP Renew 14 Backpack (1A212AA), полиэстер, синий   \n",
       "43  Рюкзак для ноутбука 15.6\" HP Renew 14 Backpack (1A212AA), полиэстер, синий   \n",
       "45              Рюкзак для ноутбука 15.6, HP RENEW Navy Backpack, син, 1A212AA   \n",
       "58                                    Видеокамера IP Hikvision DS-2CD2123G0-IS   \n",
       "\n",
       "                                                                                                                       characteristic_attributes_mapping1   \n",
       "29                                                                                                  {\"Тип\":[\"Внутренний жесткий диск\"],\"Бренд\":[\"Netac\"]}  \\\n",
       "42  {\"Максимальный размер ноутбука, дюймы\":[\"15\"],\"Тип\":[\"Рюкзак для ноутбука\"],\"Количество внутренних отделений\":[\"7\"],\"Количество внешних карманов\":...   \n",
       "43  {\"Гарантийный срок\":[\"12 месяцев\"],\"Цвет товара\":[\"синий\"],\"Тип\":[\"Рюкзак для ноутбука\"],\"Количество внешних карманов\":[\"1\"],\"Количество внутренни...   \n",
       "45  {\"Внешние размеры, мм\":[\"435х295х100\"],\"Пол\":[\"Женский\",\"Мужской\"],\"Количество внешних карманов\":[\"1\"],\"Застежка\":[\"Молния\"],\"Тип\":[\"Рюкзак для но...   \n",
       "58                        {\"Бренд\":[\"Hikvision\"],\"Гарантийный срок\":[\"официальная гарантия производителя\"],\"Тип\":[\"Видеокамера\"],\"Цвет товара\":[\"белый\"]}   \n",
       "\n",
       "                                                                                                                       characteristic_attributes_mapping2   \n",
       "29  {\"Тип\":[\"Внешний накопитель\"],\"Комплектация\":[\"Кабель usb\"],\"Скорость чтения, Мб/с\":[\"120\"],\"Гарантийный срок\":[\"36 мес.\"],\"Цвет товара\":[\"черный\"...  \\\n",
       "42  {\"Внешние размеры, мм\":[\"435х295х100\"],\"Пол\":[\"Женский\",\"Мужской\"],\"Количество внешних карманов\":[\"1\"],\"Застежка\":[\"Молния\"],\"Тип\":[\"Рюкзак для но...   \n",
       "43  {\"Внешние размеры, мм\":[\"435х295х100\"],\"Пол\":[\"Женский\",\"Мужской\"],\"Количество внешних карманов\":[\"1\"],\"Застежка\":[\"Молния\"],\"Тип\":[\"Рюкзак для но...   \n",
       "45  {\"Цвет товара\":[\"синий\"],\"Максимальный размер ноутбука, дюймы\":[\"15\"],\"Тип\":[\"Рюкзак для ноутбука\"],\"Количество внутренних отделений\":[\"2\"],\"Бренд...   \n",
       "58  {\"Скорость съемки в макс. разрешении, кадр/с\":[\"25\"],\"Материал корпуса камеры\":[\"Металл\"],\"Рабочая диафрагма, F\":[\"2\"],\"Цвет товара\":[\"белый\"],\"Ти...   \n",
       "\n",
       "    comparison_result  missmatch_cat   \n",
       "29                  0            4.0  \\\n",
       "42                  0            4.0   \n",
       "43                  0            4.0   \n",
       "45                  0            4.0   \n",
       "58                  0            3.0   \n",
       "\n",
       "                                                                                miss_match_obj   \n",
       "29                                                    {'4': ('внутренний hdd', 'внешний hdd')}  \\\n",
       "42                                        {'4': ('рюкзак для ноутбука', 'сумка для ноутбука')}   \n",
       "43                                        {'4': ('рюкзак для ноутбука', 'сумка для ноутбука')}   \n",
       "45                                        {'4': ('сумка для ноутбука', 'рюкзак для ноутбука')}   \n",
       "58  {'3': ('видеокамеры', 'видеонаблюдение'), '4': ('видеокамера', 'система видеонаблюдения')}   \n",
       "\n",
       "    missmatch_cat_cnt  \n",
       "29                1.0  \n",
       "42                1.0  \n",
       "43                1.0  \n",
       "45                1.0  \n",
       "58                2.0  "
      ]
     },
     "execution_count": 31,
     "metadata": {},
     "output_type": "execute_result"
    }
   ],
   "source": [
    "cat_missmatch.head()"
   ]
  },
  {
   "cell_type": "code",
   "execution_count": 32,
   "id": "c3bb2b1e",
   "metadata": {},
   "outputs": [
    {
     "data": {
      "text/plain": [
       "missmatch_cat\n",
       "4.0    0.646941\n",
       "3.0    0.326574\n",
       "2.0    0.026485\n",
       "Name: proportion, dtype: float64"
      ]
     },
     "execution_count": 32,
     "metadata": {},
     "output_type": "execute_result"
    }
   ],
   "source": [
    "cat_missmatch['missmatch_cat'].value_counts(normalize=True)"
   ]
  },
  {
   "cell_type": "code",
   "execution_count": 33,
   "id": "15880276",
   "metadata": {},
   "outputs": [
    {
     "data": {
      "text/plain": [
       "missmatch_cat_cnt\n",
       "1.0    0.646941\n",
       "2.0    0.326574\n",
       "3.0    0.026485\n",
       "Name: proportion, dtype: float64"
      ]
     },
     "execution_count": 33,
     "metadata": {},
     "output_type": "execute_result"
    }
   ],
   "source": [
    "cat_missmatch['missmatch_cat_cnt'].value_counts(normalize=True)"
   ]
  },
  {
   "cell_type": "markdown",
   "id": "377cbd81",
   "metadata": {},
   "source": [
    "* 2,7 % пар с меткой 1, имеют расхождение со 2-4 категории. Скорее всего это ошибки разметки. Предлагаю сносить."
   ]
  },
  {
   "cell_type": "code",
   "execution_count": 44,
   "id": "2dc63b29",
   "metadata": {},
   "outputs": [],
   "source": [
    "cat_missmatch_drop = cat_missmatch[[\"variantid1\", \"variantid2\"]]\n"
   ]
  },
  {
   "cell_type": "code",
   "execution_count": 45,
   "id": "0d995f01",
   "metadata": {},
   "outputs": [],
   "source": [
    "dataset = dataset.set_index([\"variantid1\", \"variantid2\"])\n",
    "dataset = dataset.loc[~dataset.index.isin(cat_missmatch_drop.values.tolist())]\n",
    "dataset = dataset.reset_index()"
   ]
  },
  {
   "cell_type": "code",
   "execution_count": 47,
   "id": "9eaf62ae",
   "metadata": {},
   "outputs": [],
   "source": [
    "dataset.to_parquet(\"../data/full_dataset.parquet\", index=False)"
   ]
  },
  {
   "attachments": {},
   "cell_type": "markdown",
   "id": "dd468198",
   "metadata": {},
   "source": [
    "##  Parsing categories "
   ]
  },
  {
   "cell_type": "code",
   "execution_count": 3,
   "id": "0a774c48",
   "metadata": {},
   "outputs": [],
   "source": [
    "etl = pd.read_parquet(\"../data/train_data.parquet\")\n",
    "test_etl = pd.read_parquet(\"../data/test_data.parquet\")"
   ]
  },
  {
   "cell_type": "code",
   "execution_count": 4,
   "id": "c89cb68d",
   "metadata": {},
   "outputs": [],
   "source": [
    "dataset = pd.read_parquet(\"../data/full_dataset.parquet\")"
   ]
  },
  {
   "cell_type": "code",
   "execution_count": 5,
   "id": "0b834a5f",
   "metadata": {},
   "outputs": [],
   "source": [
    "from tqdm import tqdm\n",
    "def parse_category(features: pd.DataFrame) -> pd.DataFrame:\n",
    "    df_cat = pd.DataFrame({f\"cat_{i+1}\": [pd.NA] * features.shape[0] for i in range(4) })\n",
    "    for i in tqdm(range(features.shape[0])):    \n",
    "        cat1 = ast.literal_eval(features.loc[i,'categories'])    \n",
    "    \n",
    "        for j in range(4):  \n",
    "            df_cat.loc[i,f\"cat_{j+1}\"] = cat1[str(j+1)]\n",
    "    return pd.concat([features, df_cat], axis=1)"
   ]
  },
  {
   "cell_type": "code",
   "execution_count": 6,
   "id": "22e7ae24",
   "metadata": {},
   "outputs": [
    {
     "name": "stderr",
     "output_type": "stream",
     "text": [
      "100%|██████████| 457063/457063 [01:11<00:00, 6400.09it/s]\n",
      "100%|██████████| 35730/35730 [00:05<00:00, 6245.42it/s]\n"
     ]
    }
   ],
   "source": [
    "etl = parse_category(etl)\n",
    "etl = etl.drop(columns=[\"categories\"])\n",
    "test_etl = parse_category(test_etl)\n",
    "test_etl = test_etl.drop(columns=[\"categories\"])"
   ]
  },
  {
   "cell_type": "code",
   "execution_count": 7,
   "id": "24f63702",
   "metadata": {},
   "outputs": [
    {
     "data": {
      "text/html": [
       "<div>\n",
       "<style scoped>\n",
       "    .dataframe tbody tr th:only-of-type {\n",
       "        vertical-align: middle;\n",
       "    }\n",
       "\n",
       "    .dataframe tbody tr th {\n",
       "        vertical-align: top;\n",
       "    }\n",
       "\n",
       "    .dataframe thead th {\n",
       "        text-align: right;\n",
       "    }\n",
       "</style>\n",
       "<table border=\"1\" class=\"dataframe\">\n",
       "  <thead>\n",
       "    <tr style=\"text-align: right;\">\n",
       "      <th></th>\n",
       "      <th>variantid</th>\n",
       "      <th>name</th>\n",
       "      <th>color_parsed</th>\n",
       "      <th>pic_embeddings_resnet_v1</th>\n",
       "      <th>main_pic_embeddings_resnet_v1</th>\n",
       "      <th>name_bert_64</th>\n",
       "      <th>characteristic_attributes_mapping</th>\n",
       "      <th>cat_1</th>\n",
       "      <th>cat_2</th>\n",
       "      <th>cat_3</th>\n",
       "      <th>cat_4</th>\n",
       "    </tr>\n",
       "  </thead>\n",
       "  <tbody>\n",
       "  </tbody>\n",
       "</table>\n",
       "</div>"
      ],
      "text/plain": [
       "Empty DataFrame\n",
       "Columns: [variantid, name, color_parsed, pic_embeddings_resnet_v1, main_pic_embeddings_resnet_v1, name_bert_64, characteristic_attributes_mapping, cat_1, cat_2, cat_3, cat_4]\n",
       "Index: []"
      ]
     },
     "execution_count": 7,
     "metadata": {},
     "output_type": "execute_result"
    }
   ],
   "source": [
    "test_etl[test_etl[\"cat_2\"] != \"Электроника\"]"
   ]
  },
  {
   "cell_type": "code",
   "execution_count": 8,
   "id": "58dc9bbe",
   "metadata": {},
   "outputs": [],
   "source": [
    "drop_variant = etl.loc[etl[\"cat_2\"] != \"Электроника\", \"variantid\"]\n",
    "etl = etl[etl[\"cat_2\"] == \"Электроника\"] # save only \"Электроника\"\n",
    "etl = etl.drop(columns=[\"cat_1\", \"cat_2\"])\n",
    "test_etl = test_etl.drop(columns=[\"cat_1\", \"cat_2\"])\n",
    "etl.to_parquet(\"../data/train_data.parquet\")\n",
    "test_etl.to_parquet(\"../data/test_data.parquet\")"
   ]
  },
  {
   "cell_type": "code",
   "execution_count": 9,
   "id": "b7f90354",
   "metadata": {},
   "outputs": [],
   "source": [
    "dataset = dataset[~dataset[\"variantid1\"].isin(drop_variant)]\n",
    "dataset = dataset[~dataset[\"variantid2\"].isin(drop_variant)]\n",
    "dataset.to_parquet(\"../data/full_dataset.parquet\")"
   ]
  },
  {
   "cell_type": "code",
   "execution_count": 10,
   "id": "dd454cc2",
   "metadata": {},
   "outputs": [
    {
     "name": "stdout",
     "output_type": "stream",
     "text": [
      "<class 'pandas.core.frame.DataFrame'>\n",
      "Index: 456843 entries, 0 to 457062\n",
      "Data columns (total 9 columns):\n",
      " #   Column                             Non-Null Count   Dtype \n",
      "---  ------                             --------------   ----- \n",
      " 0   variantid                          456843 non-null  int64 \n",
      " 1   name                               456843 non-null  object\n",
      " 2   color_parsed                       378543 non-null  object\n",
      " 3   pic_embeddings_resnet_v1           303317 non-null  object\n",
      " 4   main_pic_embeddings_resnet_v1      456843 non-null  object\n",
      " 5   name_bert_64                       456843 non-null  object\n",
      " 6   characteristic_attributes_mapping  456816 non-null  object\n",
      " 7   cat_3                              456843 non-null  object\n",
      " 8   cat_4                              456843 non-null  object\n",
      "dtypes: int64(1), object(8)\n",
      "memory usage: 34.9+ MB\n"
     ]
    }
   ],
   "source": [
    "etl.info()"
   ]
  },
  {
   "cell_type": "code",
   "execution_count": 41,
   "id": "e460ec23",
   "metadata": {},
   "outputs": [],
   "source": [
    "from typing import Any, Dict\n",
    "\n",
    "\n",
    "def tuplizer(x):\n",
    "    return tuple(x) if isinstance(x, (np.ndarray, list)) else x\n",
    "\n",
    "def translate_colors(color: Any):\n",
    "    color_mapping: Dict[str, str] = {\n",
    "    \"black\": \"черный\", \n",
    "    \"white\": \"белый\", \n",
    "    \"pink\": \"розовый\",\n",
    "    \"violet\": \"фиолетовый\", \n",
    "    \"gold\": \"золотистый\", \n",
    "    \"золотой\": \"золотистый\",\n",
    "    \"red\": \"красный\", \n",
    "    \"brown\": \"коричневый\",\n",
    "    \"amethyst\": \"аметистовый\", \n",
    "    \"khaki\": \"хаки\", \n",
    "    \"gray\": \"серый\", \n",
    "    \"grey\": \"серый\", \n",
    "    \"beige\": \"бежевый\", \n",
    "    \"orange\": \"оранжевый\", \n",
    "    \"peach\": \"персиковый\", \n",
    "    \"bronze\": \"бронзовый\", \n",
    "    \"purple\": \"пурпурный\",\n",
    "    \"lemon\": \"лимонный\", \n",
    "    \"emerald\": \"изумрудный\", \n",
    "    \"silver\": \"серебряный\", \n",
    "    \"blue\": \"синий\",\n",
    "    \"fuchsia\": \"фуксия\",\n",
    "    \"cyan\": \"циан\",\n",
    "    \"yellow\": \"желтый\",\n",
    "    \"green\": \"зеленый\", \n",
    "    \"камуфляжный\": \"хаки\",\n",
    "    \"silver\": \"серебристый\",\n",
    "    \"серебряный\": \"серебристый\",\n",
    "    \"мята\": \"мятный\",\n",
    "    \"orchid\": \"орхидея\", \n",
    "    \"aqua\": \"аква\", \n",
    "    \"emeral\": \"изумрудный\",\n",
    "    \"крас\": \"красный\",\n",
    "    \"красн\": \"красный\", \n",
    "    \"изумруд\": \"изумрудный\",\n",
    "    \"chocolate\": \"шоколадный\", \n",
    "    \"tomato\": \"томатный\", \n",
    "    \"olive\": \"оливковый\", \n",
    "    \"бел\": \"белый\", \n",
    "    \"pear\": \"грушевый\", \n",
    "    \"lime\": \"лаймовый\", \n",
    "    \"lavender\": \"лавандовый\", \n",
    "    \"sapphire\": \"сапфировый\", \n",
    "    \"белоснежный\": \"белый\", \n",
    "    \"лайм\": \"лаймовый\", \n",
    "    \"зел\": \"зеленый\", \n",
    "    \"cream\": \"кремовый\",\n",
    "    \"snow\": \"белый\",\n",
    "    \"lilac\": \"лиловый\",\n",
    "    \"лаванда\": \"лавандовый\",\n",
    "    \"cobalt\": \"кобальтовый\",\n",
    "    \"copper\": \"медный\",\n",
    "    \"фиол\": \"фиолетовый\",\n",
    "    \"чер\": \"черный\",\n",
    "    \"jade\": \"нефритовый\", \n",
    "    \"indigo\": \"индиго\", \n",
    "    \"amber\": \"янтарный\", \n",
    "    \"желт\": \"желтый\",\n",
    "    \"тыква\": \"тыквенный\",\n",
    "    \"teal\": \"бирюзовый\",\n",
    "    \"turquoise\": \"бирюзовый\",\n",
    "    \"син\": \"синий\",\n",
    "    \"сер\": \"серый\",\n",
    "    \"черн\": \"черный\",\n",
    "    \"vanilla\": \"ванильный\",\n",
    "    \"голуб\": \"голубой\",\n",
    "    \"фиолет\": \"фиолетовый\",\n",
    "    \"flax\": \"льняной\",\n",
    "    \"linen \": \"льняной\",\n",
    "    \"мультиколор\": \"многоцветный\",\n",
    "    \"разноцветный\": \"многоцветный\",\n",
    "    \"brass\": \"латунный\",\n",
    "    \"aquamarine\": \"аквамариновый\",\n",
    "    \"burgundy\": \"бордовый\", \n",
    "    \"бордо\": \"бордовый\", \n",
    "    \"вишня\": \"вишневый\", \n",
    "    \"azure\": \"синий\", \n",
    "    }\n",
    "    if color is not None:\n",
    "        color = set([color_mapping[c]\n",
    "                     if c in color_mapping\n",
    "                     else c.split(\"-\")[-1]\n",
    "                     for c in color])\n",
    "    return color\n",
    "etl[\"color_parsed\"] = etl[\"color_parsed\"].apply(translate_colors)\n",
    "test_etl[\"color_parsed\"] = test_etl[\"color_parsed\"].apply(translate_colors)"
   ]
  },
  {
   "cell_type": "code",
   "execution_count": 43,
   "id": "5ef28ac8",
   "metadata": {},
   "outputs": [],
   "source": [
    "etl.to_parquet(\"../data/train_data.parquet\")\n",
    "test_etl.to_parquet(\"../data/test_data.parquet\")"
   ]
  },
  {
   "cell_type": "code",
   "execution_count": 30,
   "id": "63005eba",
   "metadata": {},
   "outputs": [],
   "source": [
    "colors = etl[\"color_parsed\"].apply(tuplizer).unique()\n",
    "test_colors = test_etl[\"color_parsed\"].apply(tuplizer).unique()"
   ]
  },
  {
   "cell_type": "code",
   "execution_count": 23,
   "id": "a8c5e1bd",
   "metadata": {},
   "outputs": [],
   "source": [
    "unique_colors = set()\n",
    "for color in colors:\n",
    "    if color is not None:\n",
    "        unique_colors = unique_colors.union(set(color))\n",
    "with open(\"colors.txt\", \"w\") as f:\n",
    "    f.writelines(\"\\n\".join(unique_colors)) "
   ]
  },
  {
   "cell_type": "code",
   "execution_count": 32,
   "id": "c3834fb8",
   "metadata": {},
   "outputs": [],
   "source": [
    "test_unique_colors = set()\n",
    "for color in test_colors:\n",
    "    if color is not None:\n",
    "        test_unique_colors = test_unique_colors.union(set(color))\n",
    "with open(\"test_colors.txt\", \"w\") as f:\n",
    "    f.writelines(\"\\n\".join(test_unique_colors)) \n"
   ]
  }
 ],
 "metadata": {
  "kernelspec": {
   "display_name": "Python 3 (ipykernel)",
   "language": "python",
   "name": "python3"
  },
  "language_info": {
   "codemirror_mode": {
    "name": "ipython",
    "version": 3
   },
   "file_extension": ".py",
   "mimetype": "text/x-python",
   "name": "python",
   "nbconvert_exporter": "python",
   "pygments_lexer": "ipython3",
   "version": "3.10.11"
  }
 },
 "nbformat": 4,
 "nbformat_minor": 5
}
