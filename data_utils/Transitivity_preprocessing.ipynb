{
 "cells": [
  {
   "cell_type": "code",
   "execution_count": 32,
   "metadata": {},
   "outputs": [],
   "source": [
    "import pandas as pd\n",
    "import numpy as np\n",
    "pd.options.mode.chained_assignment = None"
   ]
  },
  {
   "cell_type": "code",
   "execution_count": 35,
   "metadata": {},
   "outputs": [],
   "source": [
    "dataset = pd.read_parquet(\"../data/train_pairs.parquet\")"
   ]
  },
  {
   "cell_type": "code",
   "execution_count": 36,
   "metadata": {},
   "outputs": [
    {
     "data": {
      "text/plain": [
       "(306540, 3)"
      ]
     },
     "execution_count": 36,
     "metadata": {},
     "output_type": "execute_result"
    }
   ],
   "source": [
    "dataset.shape"
   ]
  },
  {
   "cell_type": "code",
   "execution_count": 111,
   "metadata": {},
   "outputs": [],
   "source": [
    "def remove_symmetric_rows(dataset: pd.DataFrame, col1: str=\"variantid1\", \n",
    "                          col2: str=\"variantid2\") -> pd.DataFrame:\n",
    "    m = pd.DataFrame(np.sort(dataset[[col1, col2]], axis=1), index=dataset.index).duplicated()\n",
    "    return dataset[~m]"
   ]
  },
  {
   "attachments": {},
   "cell_type": "markdown",
   "metadata": {},
   "source": [
    "## Merge data with same variant1 "
   ]
  },
  {
   "cell_type": "code",
   "execution_count": 5,
   "metadata": {},
   "outputs": [],
   "source": [
    "dataset_v1 = dataset.merge(dataset, how=\"inner\", left_on=\"variantid1\", right_on=\"variantid1\")"
   ]
  },
  {
   "attachments": {},
   "cell_type": "markdown",
   "metadata": {},
   "source": [
    "### A=B, B=C => A=C; A/=B, B=C => A/=C"
   ]
  },
  {
   "cell_type": "code",
   "execution_count": 82,
   "metadata": {},
   "outputs": [
    {
     "data": {
      "text/plain": [
       "(135668, 6)"
      ]
     },
     "execution_count": 82,
     "metadata": {},
     "output_type": "execute_result"
    }
   ],
   "source": [
    "negative_part_v1 = dataset_v1[(dataset_v1[\"variantid2_x\"] != dataset_v1[\"variantid2_y\"]) & \n",
    "         (dataset_v1[\"target_x\"] != dataset_v1[\"target_y\"])]\n",
    "negative_part_v1.loc[:, \"target\"] = 0.0\n",
    "positive_part_v1 = dataset_v1[(dataset_v1[\"variantid2_x\"] != dataset_v1[\"variantid2_y\"]) & \n",
    "         (dataset_v1[\"target_x\"] == 1.0) &\n",
    "         (dataset_v1[\"target_y\"] == 1.0)]\n",
    "positive_part_v1.loc[:, \"target\"] = 1.0\n",
    "v1_data = pd.concat([positive_part_v1, negative_part_v1], ignore_index=True)\n",
    "# drop duplicates if appear \n",
    "v1_data = v1_data.drop_duplicates(subset=[\"variantid2_x\", \"variantid2_y\", \"target\"])\n",
    "v1_data.shape"
   ]
  },
  {
   "cell_type": "code",
   "execution_count": 83,
   "metadata": {},
   "outputs": [],
   "source": [
    "# Remove errors from initial datasets (A=B, B=C => A=C, but A/=D, D=C => A/=C)\n",
    "drop_part_v1 = v1_data[v1_data.duplicated(subset=[\"variantid2_x\", \"variantid2_y\"], keep=False)]\n",
    "v1_data = v1_data.drop_duplicates(subset=[\"variantid2_x\", \"variantid2_y\"], keep=False)"
   ]
  },
  {
   "cell_type": "code",
   "execution_count": 86,
   "metadata": {},
   "outputs": [],
   "source": [
    "# Prepare for merging \n",
    "v1_data = v1_data[[\"variantid2_x\", \"variantid2_y\", \"target\"]]\n",
    "v1_data = v1_data.rename(columns={\"variantid2_x\": \"variantid1\",  \"variantid2_y\":\"variantid2\"})"
   ]
  },
  {
   "cell_type": "code",
   "execution_count": 87,
   "metadata": {},
   "outputs": [
    {
     "data": {
      "text/plain": [
       "(67578, 3)"
      ]
     },
     "execution_count": 87,
     "metadata": {},
     "output_type": "execute_result"
    }
   ],
   "source": [
    "v1_data = remove_symmetric_rows(v1_data, \"variantid1\", \"variantid2\")\n",
    "v1_data.shape"
   ]
  },
  {
   "attachments": {},
   "cell_type": "markdown",
   "metadata": {},
   "source": [
    "## Merge data with same variant2"
   ]
  },
  {
   "cell_type": "code",
   "execution_count": 56,
   "metadata": {},
   "outputs": [],
   "source": [
    "dataset_v2 = dataset.merge(dataset, how=\"inner\", left_on=\"variantid2\", right_on=\"variantid2\")"
   ]
  },
  {
   "cell_type": "code",
   "execution_count": 57,
   "metadata": {},
   "outputs": [
    {
     "data": {
      "text/html": [
       "<div>\n",
       "<style scoped>\n",
       "    .dataframe tbody tr th:only-of-type {\n",
       "        vertical-align: middle;\n",
       "    }\n",
       "\n",
       "    .dataframe tbody tr th {\n",
       "        vertical-align: top;\n",
       "    }\n",
       "\n",
       "    .dataframe thead th {\n",
       "        text-align: right;\n",
       "    }\n",
       "</style>\n",
       "<table border=\"1\" class=\"dataframe\">\n",
       "  <thead>\n",
       "    <tr style=\"text-align: right;\">\n",
       "      <th></th>\n",
       "      <th>target_x</th>\n",
       "      <th>variantid1_x</th>\n",
       "      <th>variantid2</th>\n",
       "      <th>target_y</th>\n",
       "      <th>variantid1_y</th>\n",
       "      <th>target</th>\n",
       "    </tr>\n",
       "  </thead>\n",
       "  <tbody>\n",
       "    <tr>\n",
       "      <th>0</th>\n",
       "      <td>1.0</td>\n",
       "      <td>74501929</td>\n",
       "      <td>344615391</td>\n",
       "      <td>1.0</td>\n",
       "      <td>85779423</td>\n",
       "      <td>1.0</td>\n",
       "    </tr>\n",
       "    <tr>\n",
       "      <th>1</th>\n",
       "      <td>1.0</td>\n",
       "      <td>85779423</td>\n",
       "      <td>344615391</td>\n",
       "      <td>1.0</td>\n",
       "      <td>74501929</td>\n",
       "      <td>1.0</td>\n",
       "    </tr>\n",
       "    <tr>\n",
       "      <th>2</th>\n",
       "      <td>1.0</td>\n",
       "      <td>77505734</td>\n",
       "      <td>412098811</td>\n",
       "      <td>1.0</td>\n",
       "      <td>237707849</td>\n",
       "      <td>1.0</td>\n",
       "    </tr>\n",
       "    <tr>\n",
       "      <th>3</th>\n",
       "      <td>1.0</td>\n",
       "      <td>237707849</td>\n",
       "      <td>412098811</td>\n",
       "      <td>1.0</td>\n",
       "      <td>77505734</td>\n",
       "      <td>1.0</td>\n",
       "    </tr>\n",
       "    <tr>\n",
       "      <th>4</th>\n",
       "      <td>1.0</td>\n",
       "      <td>79077690</td>\n",
       "      <td>723024492</td>\n",
       "      <td>1.0</td>\n",
       "      <td>541044232</td>\n",
       "      <td>1.0</td>\n",
       "    </tr>\n",
       "  </tbody>\n",
       "</table>\n",
       "</div>"
      ],
      "text/plain": [
       "   target_x  variantid1_x  variantid2  target_y  variantid1_y  target\n",
       "0       1.0      74501929   344615391       1.0      85779423     1.0\n",
       "1       1.0      85779423   344615391       1.0      74501929     1.0\n",
       "2       1.0      77505734   412098811       1.0     237707849     1.0\n",
       "3       1.0     237707849   412098811       1.0      77505734     1.0\n",
       "4       1.0      79077690   723024492       1.0     541044232     1.0"
      ]
     },
     "execution_count": 57,
     "metadata": {},
     "output_type": "execute_result"
    }
   ],
   "source": [
    "negative_part_v2 = dataset_v2[(dataset_v2[\"variantid1_x\"] != dataset_v2[\"variantid1_y\"]) & \n",
    "         (dataset_v2[\"target_x\"] != dataset_v2[\"target_y\"])]\n",
    "negative_part_v2.loc[:, \"target\"] = 0.0\n",
    "positive_part_v2 = dataset_v2[(dataset_v2[\"variantid1_x\"] != dataset_v2[\"variantid1_y\"]) & \n",
    "         (dataset_v2[\"target_x\"] == 1.0) &\n",
    "         (dataset_v2[\"target_y\"] == 1.0)]\n",
    "positive_part_v2.loc[:, \"target\"] = 1.0\n",
    "v2_data = pd.concat([positive_part_v2, negative_part_v2], ignore_index=True)\n",
    "# drop duplicates if appear \n",
    "v2_data = v2_data.drop_duplicates(subset=[\"variantid1_x\", \"variantid1_y\", \"target\"])\n",
    "v2_data.head()"
   ]
  },
  {
   "cell_type": "code",
   "execution_count": 58,
   "metadata": {},
   "outputs": [],
   "source": [
    "# Remove errors from initial datasets (A=B, B=C => A=C, but A/=D, D=C => A/=C)\n",
    "drop_part_v2 = v2_data[v2_data.duplicated(subset=[\"variantid1_x\", \"variantid1_y\"], keep=False)]\n",
    "v2_data = v2_data.drop_duplicates(subset=[\"variantid1_x\", \"variantid1_y\"], keep=False)"
   ]
  },
  {
   "cell_type": "code",
   "execution_count": 59,
   "metadata": {},
   "outputs": [],
   "source": [
    "# Prepare for merging \n",
    "v2_data = v2_data[[\"variantid1_x\", \"variantid1_y\", \"target\"]]\n",
    "v2_data = v2_data.rename(columns={\"variantid1_x\": \"variantid1\",  \"variantid1_y\":\"variantid2\"})"
   ]
  },
  {
   "cell_type": "code",
   "execution_count": 60,
   "metadata": {},
   "outputs": [
    {
     "data": {
      "text/plain": [
       "(66662, 3)"
      ]
     },
     "execution_count": 60,
     "metadata": {},
     "output_type": "execute_result"
    }
   ],
   "source": [
    "v2_data = remove_symmetric_rows(v2_data)\n",
    "v2_data.shape"
   ]
  },
  {
   "cell_type": "code",
   "execution_count": 61,
   "metadata": {},
   "outputs": [
    {
     "data": {
      "text/html": [
       "<div>\n",
       "<style scoped>\n",
       "    .dataframe tbody tr th:only-of-type {\n",
       "        vertical-align: middle;\n",
       "    }\n",
       "\n",
       "    .dataframe tbody tr th {\n",
       "        vertical-align: top;\n",
       "    }\n",
       "\n",
       "    .dataframe thead th {\n",
       "        text-align: right;\n",
       "    }\n",
       "</style>\n",
       "<table border=\"1\" class=\"dataframe\">\n",
       "  <thead>\n",
       "    <tr style=\"text-align: right;\">\n",
       "      <th></th>\n",
       "      <th>target_x</th>\n",
       "      <th>variantid1_x</th>\n",
       "      <th>variantid2</th>\n",
       "      <th>target_y</th>\n",
       "      <th>variantid1_y</th>\n",
       "      <th>target</th>\n",
       "    </tr>\n",
       "  </thead>\n",
       "  <tbody>\n",
       "    <tr>\n",
       "      <th>2100</th>\n",
       "      <td>1.0</td>\n",
       "      <td>750249395</td>\n",
       "      <td>777928013</td>\n",
       "      <td>1.0</td>\n",
       "      <td>760205897</td>\n",
       "      <td>1.0</td>\n",
       "    </tr>\n",
       "    <tr>\n",
       "      <th>2105</th>\n",
       "      <td>1.0</td>\n",
       "      <td>760205897</td>\n",
       "      <td>777928013</td>\n",
       "      <td>1.0</td>\n",
       "      <td>750249395</td>\n",
       "      <td>1.0</td>\n",
       "    </tr>\n",
       "    <tr>\n",
       "      <th>3384</th>\n",
       "      <td>1.0</td>\n",
       "      <td>750245645</td>\n",
       "      <td>786958564</td>\n",
       "      <td>1.0</td>\n",
       "      <td>770482416</td>\n",
       "      <td>1.0</td>\n",
       "    </tr>\n",
       "    <tr>\n",
       "      <th>3387</th>\n",
       "      <td>1.0</td>\n",
       "      <td>770482416</td>\n",
       "      <td>786958564</td>\n",
       "      <td>1.0</td>\n",
       "      <td>750245645</td>\n",
       "      <td>1.0</td>\n",
       "    </tr>\n",
       "    <tr>\n",
       "      <th>3397</th>\n",
       "      <td>1.0</td>\n",
       "      <td>750245669</td>\n",
       "      <td>780669727</td>\n",
       "      <td>1.0</td>\n",
       "      <td>770483286</td>\n",
       "      <td>1.0</td>\n",
       "    </tr>\n",
       "  </tbody>\n",
       "</table>\n",
       "</div>"
      ],
      "text/plain": [
       "      target_x  variantid1_x  variantid2  target_y  variantid1_y  target\n",
       "2100       1.0     750249395   777928013       1.0     760205897     1.0\n",
       "2105       1.0     760205897   777928013       1.0     750249395     1.0\n",
       "3384       1.0     750245645   786958564       1.0     770482416     1.0\n",
       "3387       1.0     770482416   786958564       1.0     750245645     1.0\n",
       "3397       1.0     750245669   780669727       1.0     770483286     1.0"
      ]
     },
     "execution_count": 61,
     "metadata": {},
     "output_type": "execute_result"
    }
   ],
   "source": [
    "drop_part_v2.head()"
   ]
  },
  {
   "attachments": {},
   "cell_type": "markdown",
   "metadata": {},
   "source": [
    "## Merge data with same variant1 variant2"
   ]
  },
  {
   "cell_type": "code",
   "execution_count": 62,
   "metadata": {},
   "outputs": [],
   "source": [
    "dataset_v12 = dataset.merge(dataset, how='inner', left_on='variantid1', right_on='variantid2')"
   ]
  },
  {
   "cell_type": "code",
   "execution_count": 63,
   "metadata": {},
   "outputs": [],
   "source": [
    "negative_part_v12 = dataset_v12[(dataset_v12[\"target_x\"] != dataset_v12[\"target_y\"])]\n",
    "negative_part_v12.loc[:, \"target\"] = 0.0\n",
    "positive_part_v12 = dataset_v12[(dataset_v12['target_x'] == dataset_v12['target_y']) & (dataset_v12[\"target_x\"] == 1.0)]\n",
    "positive_part_v12.loc[:, \"target\"] = 1.0"
   ]
  },
  {
   "cell_type": "code",
   "execution_count": 66,
   "metadata": {},
   "outputs": [
    {
     "data": {
      "text/html": [
       "<div>\n",
       "<style scoped>\n",
       "    .dataframe tbody tr th:only-of-type {\n",
       "        vertical-align: middle;\n",
       "    }\n",
       "\n",
       "    .dataframe tbody tr th {\n",
       "        vertical-align: top;\n",
       "    }\n",
       "\n",
       "    .dataframe thead th {\n",
       "        text-align: right;\n",
       "    }\n",
       "</style>\n",
       "<table border=\"1\" class=\"dataframe\">\n",
       "  <thead>\n",
       "    <tr style=\"text-align: right;\">\n",
       "      <th></th>\n",
       "      <th>target_x</th>\n",
       "      <th>variantid1_x</th>\n",
       "      <th>variantid2_x</th>\n",
       "      <th>target_y</th>\n",
       "      <th>variantid1_y</th>\n",
       "      <th>variantid2_y</th>\n",
       "      <th>target</th>\n",
       "    </tr>\n",
       "  </thead>\n",
       "  <tbody>\n",
       "    <tr>\n",
       "      <th>0</th>\n",
       "      <td>1.0</td>\n",
       "      <td>286895417</td>\n",
       "      <td>386361695</td>\n",
       "      <td>1.0</td>\n",
       "      <td>179321148</td>\n",
       "      <td>286895417</td>\n",
       "      <td>1.0</td>\n",
       "    </tr>\n",
       "    <tr>\n",
       "      <th>1</th>\n",
       "      <td>1.0</td>\n",
       "      <td>334181351</td>\n",
       "      <td>400540798</td>\n",
       "      <td>1.0</td>\n",
       "      <td>329453947</td>\n",
       "      <td>334181351</td>\n",
       "      <td>1.0</td>\n",
       "    </tr>\n",
       "    <tr>\n",
       "      <th>2</th>\n",
       "      <td>1.0</td>\n",
       "      <td>359351545</td>\n",
       "      <td>724621388</td>\n",
       "      <td>1.0</td>\n",
       "      <td>194832646</td>\n",
       "      <td>359351545</td>\n",
       "      <td>1.0</td>\n",
       "    </tr>\n",
       "    <tr>\n",
       "      <th>3</th>\n",
       "      <td>1.0</td>\n",
       "      <td>359351545</td>\n",
       "      <td>488419155</td>\n",
       "      <td>1.0</td>\n",
       "      <td>194832646</td>\n",
       "      <td>359351545</td>\n",
       "      <td>1.0</td>\n",
       "    </tr>\n",
       "    <tr>\n",
       "      <th>4</th>\n",
       "      <td>1.0</td>\n",
       "      <td>458764892</td>\n",
       "      <td>766280499</td>\n",
       "      <td>1.0</td>\n",
       "      <td>141577463</td>\n",
       "      <td>458764892</td>\n",
       "      <td>1.0</td>\n",
       "    </tr>\n",
       "  </tbody>\n",
       "</table>\n",
       "</div>"
      ],
      "text/plain": [
       "   target_x  variantid1_x  variantid2_x  target_y  variantid1_y  variantid2_y   \n",
       "0       1.0     286895417     386361695       1.0     179321148     286895417  \\\n",
       "1       1.0     334181351     400540798       1.0     329453947     334181351   \n",
       "2       1.0     359351545     724621388       1.0     194832646     359351545   \n",
       "3       1.0     359351545     488419155       1.0     194832646     359351545   \n",
       "4       1.0     458764892     766280499       1.0     141577463     458764892   \n",
       "\n",
       "   target  \n",
       "0     1.0  \n",
       "1     1.0  \n",
       "2     1.0  \n",
       "3     1.0  \n",
       "4     1.0  "
      ]
     },
     "execution_count": 66,
     "metadata": {},
     "output_type": "execute_result"
    }
   ],
   "source": [
    "v12_data = pd.concat([positive_part_v12, negative_part_v12], ignore_index=True)\n",
    "# drop duplicates if appear \n",
    "v12_data = v12_data.drop_duplicates(subset=[\"variantid2_x\", \"variantid1_y\", \"target\"])\n",
    "v12_data.head()"
   ]
  },
  {
   "cell_type": "code",
   "execution_count": 67,
   "metadata": {},
   "outputs": [],
   "source": [
    "drop_part_v12 = v12_data[v12_data.duplicated(subset=[\"variantid2_x\", \"variantid1_y\"], keep=False)]\n",
    "v12_data = v12_data.drop_duplicates(subset=[\"variantid2_x\", \"variantid1_y\"], keep=False)"
   ]
  },
  {
   "cell_type": "code",
   "execution_count": 68,
   "metadata": {},
   "outputs": [],
   "source": [
    "# Prepare for merging \n",
    "v12_data = v12_data[[\"variantid2_x\", \"variantid1_y\", \"target\"]]\n",
    "v12_data = v12_data.rename(columns={\"variantid2_x\": \"variantid2\",  \"variantid1_y\":\"variantid1\"})"
   ]
  },
  {
   "cell_type": "code",
   "execution_count": 69,
   "metadata": {},
   "outputs": [
    {
     "data": {
      "text/plain": [
       "(66593, 3)"
      ]
     },
     "execution_count": 69,
     "metadata": {},
     "output_type": "execute_result"
    }
   ],
   "source": [
    "v12_data = remove_symmetric_rows(v12_data)\n",
    "v12_data.shape"
   ]
  },
  {
   "attachments": {},
   "cell_type": "markdown",
   "metadata": {},
   "source": [
    "## Drop errors from initial dataset"
   ]
  },
  {
   "cell_type": "code",
   "execution_count": 88,
   "metadata": {},
   "outputs": [],
   "source": [
    "drop_part_v1 = pd.concat([drop_part_v1[[\"variantid1\", \"variantid2_x\"]].rename(columns={\"variantid2_x\": \"variantid2\"}) , \n",
    "                          drop_part_v1[[\"variantid1\", \"variantid2_y\"]].rename(columns={\"variantid2_y\": \"variantid2\"})], ignore_index=True)"
   ]
  },
  {
   "cell_type": "code",
   "execution_count": 91,
   "metadata": {},
   "outputs": [],
   "source": [
    "drop_part_v2 = pd.concat([drop_part_v2[[\"variantid1_x\", \"variantid2\"]].rename(columns={\"variantid1_x\": \"variantid1\"}) , \n",
    "                          drop_part_v2[[\"variantid1_y\", \"variantid2\"]].rename(columns={\"variantid1_y\": \"variantid1\"})], ignore_index=True)"
   ]
  },
  {
   "cell_type": "code",
   "execution_count": 93,
   "metadata": {},
   "outputs": [],
   "source": [
    "drop_part_v12 = pd.concat([drop_part_v12[[\"variantid1_x\", \"variantid2_x\"]].rename(columns={\"variantid1_x\": \"variantid1\", \"variantid2_x\": \"variantid2\"}) , \n",
    "                          drop_part_v12[[\"variantid1_y\", \"variantid2_y\"]].rename(columns={\"variantid1_y\": \"variantid1\", \"variantid2_y\": \"variantid2\"})], ignore_index=True)"
   ]
  },
  {
   "cell_type": "code",
   "execution_count": 94,
   "metadata": {},
   "outputs": [],
   "source": [
    "drop_part = pd.concat([drop_part_v1, drop_part_v2, drop_part_v12], ignore_index=True)"
   ]
  },
  {
   "cell_type": "code",
   "execution_count": 102,
   "metadata": {},
   "outputs": [],
   "source": [
    "dataset = dataset.set_index([\"variantid1\", \"variantid2\"])\n",
    "dataset = dataset.loc[~dataset.index.isin(drop_part.values.tolist())]\n",
    "dataset = dataset.reset_index()"
   ]
  },
  {
   "attachments": {},
   "cell_type": "markdown",
   "metadata": {},
   "source": [
    "## Merge full data "
   ]
  },
  {
   "cell_type": "code",
   "execution_count": 107,
   "metadata": {},
   "outputs": [],
   "source": [
    "full_dataset = pd.concat([v1_data, v2_data, v12_data, dataset], ignore_index=True)"
   ]
  },
  {
   "cell_type": "code",
   "execution_count": 108,
   "metadata": {},
   "outputs": [],
   "source": [
    "full_dataset = full_dataset.drop_duplicates()"
   ]
  },
  {
   "cell_type": "code",
   "execution_count": 112,
   "metadata": {},
   "outputs": [],
   "source": [
    "full_dataset = remove_symmetric_rows(full_dataset)"
   ]
  },
  {
   "cell_type": "code",
   "execution_count": 114,
   "metadata": {},
   "outputs": [],
   "source": [
    "full_dataset = full_dataset.drop_duplicates(subset=[\"variantid1\", \"variantid2\"], keep=False)"
   ]
  },
  {
   "cell_type": "code",
   "execution_count": 117,
   "metadata": {},
   "outputs": [
    {
     "data": {
      "text/plain": [
       "target\n",
       "1.0    280702\n",
       "0.0    223149\n",
       "Name: count, dtype: int64"
      ]
     },
     "execution_count": 117,
     "metadata": {},
     "output_type": "execute_result"
    }
   ],
   "source": [
    "full_dataset[\"target\"].value_counts()"
   ]
  },
  {
   "cell_type": "code",
   "execution_count": 120,
   "metadata": {},
   "outputs": [],
   "source": [
    "full_dataset.to_parquet(\"../data/full_dataset.parquet\", index=False)"
   ]
  }
 ],
 "metadata": {
  "kernelspec": {
   "display_name": "ozon",
   "language": "python",
   "name": "python3"
  },
  "language_info": {
   "codemirror_mode": {
    "name": "ipython",
    "version": 3
   },
   "file_extension": ".py",
   "mimetype": "text/x-python",
   "name": "python",
   "nbconvert_exporter": "python",
   "pygments_lexer": "ipython3",
   "version": "3.10.11"
  },
  "orig_nbformat": 4
 },
 "nbformat": 4,
 "nbformat_minor": 2
}
