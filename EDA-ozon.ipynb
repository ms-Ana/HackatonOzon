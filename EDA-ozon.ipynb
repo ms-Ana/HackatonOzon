{
 "cells": [
  {
   "cell_type": "code",
   "execution_count": 1,
   "id": "4e8f11ed",
   "metadata": {},
   "outputs": [],
   "source": [
    "# import json\n",
    "import ast\n",
    "from functools import partial\n",
    "from typing import List\n",
    "from tqdm import tqdm_notebook\n",
    "\n",
    "import matplotlib.pyplot as plt\n",
    "import numpy as np\n",
    "import pandas as pd\n",
    "import seaborn as sns\n",
    "from catboost import CatBoostClassifier, Pool\n",
    "from catboost.utils import eval_metric\n",
    "from scipy.spatial.distance import cosine, euclidean\n",
    "from sklearn.metrics import pairwise_distances\n",
    "from sklearn.model_selection import train_test_split\n",
    "\n",
    "import warnings\n",
    "warnings.filterwarnings('ignore')"
   ]
  },
  {
   "cell_type": "code",
   "execution_count": 2,
   "id": "04a7424a",
   "metadata": {},
   "outputs": [],
   "source": [
    "pd.options.display.max_colwidth = 150"
   ]
  },
  {
   "cell_type": "markdown",
   "id": "e9f32e6a",
   "metadata": {},
   "source": [
    "# Импорт данных"
   ]
  },
  {
   "cell_type": "code",
   "execution_count": 3,
   "id": "5630e35e",
   "metadata": {},
   "outputs": [],
   "source": [
    "dataset = pd.read_parquet(\"train_pairs.parquet\")\n",
    "etl = pd.read_parquet(\"train_data.parquet\")"
   ]
  },
  {
   "cell_type": "markdown",
   "id": "eac1f0c1",
   "metadata": {},
   "source": [
    "## Транзитивность"
   ]
  },
  {
   "cell_type": "code",
   "execution_count": 4,
   "id": "1ea4c2a8",
   "metadata": {},
   "outputs": [],
   "source": [
    "dataset_trf = dataset.merge(dataset, how='inner', left_on='variantid2', right_on='variantid1')"
   ]
  },
  {
   "cell_type": "code",
   "execution_count": 5,
   "id": "f0ec4595",
   "metadata": {},
   "outputs": [
    {
     "data": {
      "text/html": [
       "<div>\n",
       "<style scoped>\n",
       "    .dataframe tbody tr th:only-of-type {\n",
       "        vertical-align: middle;\n",
       "    }\n",
       "\n",
       "    .dataframe tbody tr th {\n",
       "        vertical-align: top;\n",
       "    }\n",
       "\n",
       "    .dataframe thead th {\n",
       "        text-align: right;\n",
       "    }\n",
       "</style>\n",
       "<table border=\"1\" class=\"dataframe\">\n",
       "  <thead>\n",
       "    <tr style=\"text-align: right;\">\n",
       "      <th></th>\n",
       "      <th>target_x</th>\n",
       "      <th>variantid1_x</th>\n",
       "      <th>variantid2_x</th>\n",
       "      <th>target_y</th>\n",
       "      <th>variantid1_y</th>\n",
       "      <th>variantid2_y</th>\n",
       "    </tr>\n",
       "  </thead>\n",
       "  <tbody>\n",
       "    <tr>\n",
       "      <th>14</th>\n",
       "      <td>1.0</td>\n",
       "      <td>89540591</td>\n",
       "      <td>732942986</td>\n",
       "      <td>0.0</td>\n",
       "      <td>732942986</td>\n",
       "      <td>797685052</td>\n",
       "    </tr>\n",
       "    <tr>\n",
       "      <th>31</th>\n",
       "      <td>1.0</td>\n",
       "      <td>91603949</td>\n",
       "      <td>485333946</td>\n",
       "      <td>0.0</td>\n",
       "      <td>485333946</td>\n",
       "      <td>523588747</td>\n",
       "    </tr>\n",
       "    <tr>\n",
       "      <th>37</th>\n",
       "      <td>0.0</td>\n",
       "      <td>91606616</td>\n",
       "      <td>91606667</td>\n",
       "      <td>1.0</td>\n",
       "      <td>91606667</td>\n",
       "      <td>607074418</td>\n",
       "    </tr>\n",
       "    <tr>\n",
       "      <th>38</th>\n",
       "      <td>1.0</td>\n",
       "      <td>96009344</td>\n",
       "      <td>229747040</td>\n",
       "      <td>0.0</td>\n",
       "      <td>229747040</td>\n",
       "      <td>418054843</td>\n",
       "    </tr>\n",
       "    <tr>\n",
       "      <th>50</th>\n",
       "      <td>1.0</td>\n",
       "      <td>147125215</td>\n",
       "      <td>158698192</td>\n",
       "      <td>0.0</td>\n",
       "      <td>158698192</td>\n",
       "      <td>452757806</td>\n",
       "    </tr>\n",
       "  </tbody>\n",
       "</table>\n",
       "</div>"
      ],
      "text/plain": [
       "    target_x  variantid1_x  variantid2_x  target_y  variantid1_y  variantid2_y\n",
       "14       1.0      89540591     732942986       0.0     732942986     797685052\n",
       "31       1.0      91603949     485333946       0.0     485333946     523588747\n",
       "37       0.0      91606616      91606667       1.0      91606667     607074418\n",
       "38       1.0      96009344     229747040       0.0     229747040     418054843\n",
       "50       1.0     147125215     158698192       0.0     158698192     452757806"
      ]
     },
     "execution_count": 5,
     "metadata": {},
     "output_type": "execute_result"
    }
   ],
   "source": [
    "# не совпадающие метки после соединения\n",
    "dataset_new = dataset_trf[dataset_trf['target_x'] != dataset_trf['target_y']]\n",
    "dataset_new_rtm = dataset_new[['target_y', 'variantid1_x', 'variantid2_y']]\n",
    "dataset_new_rtm.columns = ['target', 'variantid1', 'variantid2']\n",
    "\n",
    "dataset_new.head()"
   ]
  },
  {
   "cell_type": "code",
   "execution_count": 7,
   "id": "9f9b6a0f",
   "metadata": {},
   "outputs": [],
   "source": [
    "# совпадающие метки после соединения\n",
    "dataset_new2 = dataset_trf[dataset_trf['target_x'] == dataset_trf['target_y']]\n",
    "dataset_new2_rtm = dataset_new2[['target_x', 'variantid1_x', 'variantid2_y']]\n",
    "dataset_new2_rtm.columns = ['target', 'variantid1', 'variantid2']\n",
    "dataset_new.head()"
   ]
  },
  {
   "cell_type": "code",
   "execution_count": 8,
   "id": "86b0a1a7",
   "metadata": {},
   "outputs": [
    {
     "name": "stdout",
     "output_type": "stream",
     "text": [
      "0.3498727735368956\n",
      "107250\n"
     ]
    }
   ],
   "source": [
    "# новых данных:\n",
    "print(((len(dataset_new_rtm) + len(dataset_new2_rtm) + len(dataset)) / len(dataset)) - 1)\n",
    "print((len(dataset_new_rtm) + len(dataset_new2_rtm) + len(dataset)) - len(dataset))"
   ]
  },
  {
   "cell_type": "code",
   "execution_count": 9,
   "id": "9832d842",
   "metadata": {},
   "outputs": [],
   "source": [
    "# Объединение исходного и новых датафреймов.\n",
    "dataset = pd.concat([dataset, dataset_new_rtm, dataset_new2_rtm], axis=0)"
   ]
  },
  {
   "cell_type": "code",
   "execution_count": 10,
   "id": "cc85f287",
   "metadata": {},
   "outputs": [
    {
     "data": {
      "text/plain": [
       "(413790, 3)"
      ]
     },
     "execution_count": 10,
     "metadata": {},
     "output_type": "execute_result"
    }
   ],
   "source": [
    "dataset.shape"
   ]
  },
  {
   "cell_type": "code",
   "execution_count": 11,
   "id": "b79d0d34",
   "metadata": {},
   "outputs": [],
   "source": [
    "# Пары + признаки\n",
    "features = (\n",
    "    dataset\n",
    "    .merge(\n",
    "        etl\n",
    "        .add_suffix('1'),\n",
    "        on=\"variantid1\"\n",
    "    )\n",
    "    .merge(\n",
    "        etl\n",
    "        .add_suffix('2'),\n",
    "        on=\"variantid2\"\n",
    "    )\n",
    ")"
   ]
  },
  {
   "cell_type": "code",
   "execution_count": 13,
   "id": "73a3e357",
   "metadata": {},
   "outputs": [],
   "source": [
    "df = features[['target', 'categories1', 'categories2','characteristic_attributes_mapping1', 'characteristic_attributes_mapping2']]"
   ]
  },
  {
   "cell_type": "markdown",
   "id": "8ac23d15",
   "metadata": {},
   "source": [
    "# Categories\n",
    "* сравниваю словари категорий в разрезе таргета, кажется что в парах с целевой меткой доля одинаковых словарей должна быть больше"
   ]
  },
  {
   "cell_type": "code",
   "execution_count": 27,
   "id": "ffa7d973",
   "metadata": {},
   "outputs": [],
   "source": [
    "def compare_dicts(row):\n",
    "    \"\"\"\n",
    "    Функция псравнивает 2 строки-словаря друг с другом.\n",
    "    \"\"\"\n",
    "    return row['categories1'] == row['categories2']\n",
    "\n",
    "\n",
    "df['categories1'] = df['categories1'].str.lower()\n",
    "df['categories2'] = df['categories2'].str.lower()\n",
    "df['comparison_result'] = df.apply(compare_dicts, axis=1) * 1"
   ]
  },
  {
   "cell_type": "code",
   "execution_count": 28,
   "id": "9d4da356",
   "metadata": {},
   "outputs": [
    {
     "data": {
      "text/html": [
       "<div>\n",
       "<style scoped>\n",
       "    .dataframe tbody tr th:only-of-type {\n",
       "        vertical-align: middle;\n",
       "    }\n",
       "\n",
       "    .dataframe tbody tr th {\n",
       "        vertical-align: top;\n",
       "    }\n",
       "\n",
       "    .dataframe thead th {\n",
       "        text-align: right;\n",
       "    }\n",
       "</style>\n",
       "<table border=\"1\" class=\"dataframe\">\n",
       "  <thead>\n",
       "    <tr style=\"text-align: right;\">\n",
       "      <th></th>\n",
       "      <th>target</th>\n",
       "      <th>comparison_result</th>\n",
       "    </tr>\n",
       "  </thead>\n",
       "  <tbody>\n",
       "    <tr>\n",
       "      <th>0</th>\n",
       "      <td>0.0</td>\n",
       "      <td>0.977674</td>\n",
       "    </tr>\n",
       "    <tr>\n",
       "      <th>1</th>\n",
       "      <td>1.0</td>\n",
       "      <td>0.957258</td>\n",
       "    </tr>\n",
       "  </tbody>\n",
       "</table>\n",
       "</div>"
      ],
      "text/plain": [
       "   target  comparison_result\n",
       "0     0.0           0.977674\n",
       "1     1.0           0.957258"
      ]
     },
     "execution_count": 28,
     "metadata": {},
     "output_type": "execute_result"
    }
   ],
   "source": [
    "df.groupby('target', as_index=False).agg({'comparison_result':np.mean})"
   ]
  },
  {
   "cell_type": "markdown",
   "id": "bbc961c0",
   "metadata": {},
   "source": [
    "* как то странно, казалось что в парах с таргетом совпадений должно быть больше\n",
    "* посмотрим на такие странные пары"
   ]
  },
  {
   "cell_type": "code",
   "execution_count": 29,
   "id": "cb3140de",
   "metadata": {},
   "outputs": [],
   "source": [
    "cat_missmatch = df[(df['target'] == 1) & (df['comparison_result'] == 0)]"
   ]
  },
  {
   "cell_type": "code",
   "execution_count": 41,
   "id": "4ebf7500",
   "metadata": {},
   "outputs": [],
   "source": [
    "def miss_match_info(cat_missmatch):\n",
    "    \"\"\"\n",
    "    Функция берет на вход дф со строками словарями категорий.\n",
    "    Возвращает новый дф с тремя столбцами:\n",
    "    missmatch_cat - 1й уровень категории где есть различие в паре. Если расхождение было в категориях 2,3,4 то вернется 2.\n",
    "    miss_match_obj - словарь, где ключ - категория с мисметчем по паре, значение - кортеж с названиями категорий\n",
    "    missmatch_cat_cnt - в скольких уровнях был мисметч. Если расхождение было в категориях 2,3,4 то вернется 3.\n",
    "    \"\"\"\n",
    "\n",
    "    miss_match_series = pd.Series(index=cat_missmatch.index, dtype='object')\n",
    "    miss_match_category = pd.Series(index=cat_missmatch.index, dtype='int8')\n",
    "    miss_match_count_category = pd.Series(index=cat_missmatch.index, dtype='int8')\n",
    "\n",
    "    for i in cat_missmatch.index:\n",
    "        cat1_dict = ast.literal_eval(cat_missmatch.loc[i,'categories1'])\n",
    "        cat2_dict = ast.literal_eval(cat_missmatch.loc[i,'categories2'])\n",
    "        if len(cat1_dict) == len(cat2_dict):\n",
    "            miss_match_dict = {}\n",
    "            cat_list = []\n",
    "            for key in cat1_dict.keys():\n",
    "\n",
    "                if cat1_dict[key] != cat2_dict[key]:\n",
    "                    miss_match_dict[key] = tuple((cat1_dict[key], cat2_dict[key]))\n",
    "                    miss_match_series.loc[i] = str(miss_match_dict)\n",
    "                    cat_list.append(int(key))\n",
    "            miss_match_category.loc[i] = min(cat_list)\n",
    "            miss_match_count_category.loc[i] = len(cat_list)\n",
    "            \n",
    "    return pd.concat([miss_match_category, miss_match_series, miss_match_count_category], ignore_index=False, axis=1)"
   ]
  },
  {
   "cell_type": "code",
   "execution_count": 31,
   "id": "4f942628",
   "metadata": {},
   "outputs": [],
   "source": [
    "cat_missmatch = pd.concat([cat_missmatch, miss_match_info(cat_missmatch)], ignore_index=False, axis=1)"
   ]
  },
  {
   "cell_type": "code",
   "execution_count": 32,
   "id": "fb3abc87",
   "metadata": {},
   "outputs": [],
   "source": [
    "cat_missmatch.columns = ['target', 'categories1', 'categories2', 'characteristic_attributes_mapping1',\n",
    "       'characteristic_attributes_mapping2','comparison_result', 'missmatch_cat', 'miss_match_obj', 'missmatch_cat_cnt']"
   ]
  },
  {
   "cell_type": "code",
   "execution_count": 42,
   "id": "9703e285",
   "metadata": {},
   "outputs": [],
   "source": [
    "# cat_missmatch.head()"
   ]
  },
  {
   "cell_type": "code",
   "execution_count": 33,
   "id": "c3bb2b1e",
   "metadata": {},
   "outputs": [
    {
     "data": {
      "text/plain": [
       "4.0    0.636035\n",
       "3.0    0.336710\n",
       "2.0    0.027255\n",
       "Name: missmatch_cat, dtype: float64"
      ]
     },
     "execution_count": 33,
     "metadata": {},
     "output_type": "execute_result"
    }
   ],
   "source": [
    "cat_missmatch['missmatch_cat'].value_counts(normalize=True)"
   ]
  },
  {
   "cell_type": "code",
   "execution_count": 34,
   "id": "15880276",
   "metadata": {},
   "outputs": [
    {
     "data": {
      "text/plain": [
       "1.0    0.636035\n",
       "2.0    0.336710\n",
       "3.0    0.027255\n",
       "Name: missmatch_cat_cnt, dtype: float64"
      ]
     },
     "execution_count": 34,
     "metadata": {},
     "output_type": "execute_result"
    }
   ],
   "source": [
    "cat_missmatch['missmatch_cat_cnt'].value_counts(normalize=True)"
   ]
  },
  {
   "cell_type": "markdown",
   "id": "377cbd81",
   "metadata": {},
   "source": [
    "* 2,7 % пар с меткой 1, имеют расхождение со 2-4 категории. Скорее всего это ошибки разметки. Предлагаю сносить."
   ]
  },
  {
   "cell_type": "code",
   "execution_count": 35,
   "id": "7ab5fdbd",
   "metadata": {},
   "outputs": [],
   "source": [
    "# cat_missmatch[cat_missmatch['missmatch_cat_cnt'] == 3].to_excel('cat_missmatch.xlsx', index=False)"
   ]
  },
  {
   "cell_type": "code",
   "execution_count": 36,
   "id": "f2dc60cc",
   "metadata": {},
   "outputs": [],
   "source": [
    "cat_missmatch_0 = df[(df['target'] == 0) & (df['comparison_result'] == 0)]\n",
    "\n",
    "cat_missmatch_0 = pd.concat([cat_missmatch_0, miss_match_info(cat_missmatch_0)], ignore_index=False, axis=1,)\n",
    "\n",
    "cat_missmatch_0.columns = ['target', 'categories1', 'categories2', 'characteristic_attributes_mapping1',\n",
    "       'characteristic_attributes_mapping2','comparison_result', 'missmatch_cat', 'miss_match_obj', 'missmatch_cat_cnt']"
   ]
  },
  {
   "cell_type": "code",
   "execution_count": 37,
   "id": "21efefeb",
   "metadata": {},
   "outputs": [
    {
     "data": {
      "text/plain": [
       "3.0    0.548604\n",
       "4.0    0.446709\n",
       "2.0    0.004687\n",
       "Name: missmatch_cat, dtype: float64"
      ]
     },
     "execution_count": 37,
     "metadata": {},
     "output_type": "execute_result"
    }
   ],
   "source": [
    "cat_missmatch_0['missmatch_cat'].value_counts(normalize=True)"
   ]
  },
  {
   "cell_type": "code",
   "execution_count": 38,
   "id": "46228166",
   "metadata": {},
   "outputs": [
    {
     "data": {
      "text/plain": [
       "2.0    0.548604\n",
       "1.0    0.446709\n",
       "3.0    0.004687\n",
       "Name: missmatch_cat_cnt, dtype: float64"
      ]
     },
     "execution_count": 38,
     "metadata": {},
     "output_type": "execute_result"
    }
   ],
   "source": [
    "cat_missmatch_0['missmatch_cat_cnt'].value_counts(normalize=True)"
   ]
  },
  {
   "cell_type": "code",
   "execution_count": 39,
   "id": "deb8e240",
   "metadata": {},
   "outputs": [
    {
     "data": {
      "text/html": [
       "<div>\n",
       "<style scoped>\n",
       "    .dataframe tbody tr th:only-of-type {\n",
       "        vertical-align: middle;\n",
       "    }\n",
       "\n",
       "    .dataframe tbody tr th {\n",
       "        vertical-align: top;\n",
       "    }\n",
       "\n",
       "    .dataframe thead th {\n",
       "        text-align: right;\n",
       "    }\n",
       "</style>\n",
       "<table border=\"1\" class=\"dataframe\">\n",
       "  <thead>\n",
       "    <tr style=\"text-align: right;\">\n",
       "      <th></th>\n",
       "      <th>target</th>\n",
       "      <th>categories1</th>\n",
       "      <th>categories2</th>\n",
       "      <th>characteristic_attributes_mapping1</th>\n",
       "      <th>characteristic_attributes_mapping2</th>\n",
       "      <th>comparison_result</th>\n",
       "      <th>missmatch_cat</th>\n",
       "      <th>miss_match_obj</th>\n",
       "      <th>missmatch_cat_cnt</th>\n",
       "    </tr>\n",
       "  </thead>\n",
       "  <tbody>\n",
       "    <tr>\n",
       "      <th>125</th>\n",
       "      <td>0.0</td>\n",
       "      <td>{\"1\": \"epg\", \"2\": \"электроника\", \"3\": \"зарядные устройства и док-станции\", \"4\": \"зарядное устройство\"}</td>\n",
       "      <td>{\"1\": \"epg\", \"2\": \"электроника\", \"3\": \"кабели и переходники\", \"4\": \"usb-концентратор\"}</td>\n",
       "      <td>{\"Страна-изготовитель\":[\"Китай\"],\"Тип\":[\"Беспроводное зарядное устройство\"],\"Бренд\":[\"WIWU\"],\"Цвет товара\":[\"серебристый\"]}</td>\n",
       "      <td>{\"Цвет товара\":[\"серый\"],\"Бренд\":[\"WIWU\"],\"Тип\":[\"USB-концентратор\"],\"Электробезопасность\":[\"Защита от высокого напряжения\",\"Защита от короткого з...</td>\n",
       "      <td>0</td>\n",
       "      <td>3.0</td>\n",
       "      <td>{'3': ('зарядные устройства и док-станции', 'кабели и переходники'), '4': ('зарядное устройство', 'usb-концентратор')}</td>\n",
       "      <td>2.0</td>\n",
       "    </tr>\n",
       "    <tr>\n",
       "      <th>508</th>\n",
       "      <td>0.0</td>\n",
       "      <td>{\"1\": \"epg\", \"2\": \"электроника\", \"3\": \"видеорегистратор\", \"4\": \"видеорегистратор\"}</td>\n",
       "      <td>{\"1\": \"epg\", \"2\": \"электроника\", \"3\": \"видеонаблюдение\", \"4\": \"регистратор\"}</td>\n",
       "      <td>{\"Тип\":[\"Регистратор\"],\"Гарантийный срок\":[\"1 год\"],\"Бренд\":[\"Hikvision\"],\"Вес товара, г\":[\"2600\"],\"Страна-изготовитель\":[\"Китай\"],\"Размеры, мм\":[...</td>\n",
       "      <td>{\"Цвет товара\":[\"белый\"],\"Тип\":[\"Регистратор\"],\"Бренд\":[\"Hikvision\"],\"Тип матрицы\":[\"CMOS 1/2.8\\\"\"],\"Вид камеры\":[\"IP камера\"]}</td>\n",
       "      <td>0</td>\n",
       "      <td>3.0</td>\n",
       "      <td>{'3': ('видеорегистратор', 'видеонаблюдение'), '4': ('видеорегистратор', 'регистратор')}</td>\n",
       "      <td>2.0</td>\n",
       "    </tr>\n",
       "    <tr>\n",
       "      <th>510</th>\n",
       "      <td>0.0</td>\n",
       "      <td>{\"1\": \"epg\", \"2\": \"электроника\", \"3\": \"видеонаблюдение\", \"4\": \"регистратор\"}</td>\n",
       "      <td>{\"1\": \"epg\", \"2\": \"электроника\", \"3\": \"видеорегистратор\", \"4\": \"видеорегистратор\"}</td>\n",
       "      <td>{\"Общее количество пикселей\":[\"12 Мпикс\"],\"Суммарный объем всех дисков, ГБ\":[\"20000\"],\"Число подключаемых жестких дисков, max\":[\"2\"],\"Сетевые прот...</td>\n",
       "      <td>{\"Наличие дисплея\":[\"Без дисплея\"],\"Диапазон рабочей температуры\":[\"от -10 до +55\"],\"Тип\":[\"Видеорегистратор\"],\"Комплектация\":[\"Видеорегистратор H...</td>\n",
       "      <td>0</td>\n",
       "      <td>3.0</td>\n",
       "      <td>{'3': ('видеонаблюдение', 'видеорегистратор'), '4': ('регистратор', 'видеорегистратор')}</td>\n",
       "      <td>2.0</td>\n",
       "    </tr>\n",
       "    <tr>\n",
       "      <th>793</th>\n",
       "      <td>0.0</td>\n",
       "      <td>{\"1\": \"epg\", \"2\": \"электроника\", \"3\": \"видеонаблюдение\", \"4\": \"регистратор\"}</td>\n",
       "      <td>{\"1\": \"epg\", \"2\": \"электроника\", \"3\": \"видеонаблюдение\", \"4\": \"система видеонаблюдения\"}</td>\n",
       "      <td>{\"Гарантийный срок\":[\"5 лет\"],\"Бренд\":[\"Dahua\"],\"Тип\":[\"Регистратор\"]}</td>\n",
       "      <td>{\"Страна-изготовитель\":[\"Китай\"],\"Тип\":[\"Система видеонаблюдения\"],\"Гарантийный срок\":[\"2 года\"],\"Бренд\":[\"Dahua\"]}</td>\n",
       "      <td>0</td>\n",
       "      <td>4.0</td>\n",
       "      <td>{'4': ('регистратор', 'система видеонаблюдения')}</td>\n",
       "      <td>1.0</td>\n",
       "    </tr>\n",
       "    <tr>\n",
       "      <th>796</th>\n",
       "      <td>0.0</td>\n",
       "      <td>{\"1\": \"epg\", \"2\": \"электроника\", \"3\": \"видеонаблюдение\", \"4\": \"система видеонаблюдения\"}</td>\n",
       "      <td>{\"1\": \"epg\", \"2\": \"электроника\", \"3\": \"видеонаблюдение\", \"4\": \"регистратор\"}</td>\n",
       "      <td>{\"Количество в упаковке, шт\":[\"1\"],\"Общее количество пикселей\":[\"12 Мпикс\"],\"Материал купола\":[\"Пластик\"],\"Бренд\":[\"Dahua\"],\"Скорость съемки в мак...</td>\n",
       "      <td>{\"Страна-изготовитель\":[\"Китай\"],\"Макс. температура эксплуатации, С°\":[\"55\"],\"Суммарный объем всех дисков, ГБ\":[\"12288\"],\"Форматы файлов видео\":[\"...</td>\n",
       "      <td>0</td>\n",
       "      <td>4.0</td>\n",
       "      <td>{'4': ('система видеонаблюдения', 'регистратор')}</td>\n",
       "      <td>1.0</td>\n",
       "    </tr>\n",
       "  </tbody>\n",
       "</table>\n",
       "</div>"
      ],
      "text/plain": [
       "     target  \\\n",
       "125     0.0   \n",
       "508     0.0   \n",
       "510     0.0   \n",
       "793     0.0   \n",
       "796     0.0   \n",
       "\n",
       "                                                                                                categories1  \\\n",
       "125  {\"1\": \"epg\", \"2\": \"электроника\", \"3\": \"зарядные устройства и док-станции\", \"4\": \"зарядное устройство\"}   \n",
       "508                      {\"1\": \"epg\", \"2\": \"электроника\", \"3\": \"видеорегистратор\", \"4\": \"видеорегистратор\"}   \n",
       "510                            {\"1\": \"epg\", \"2\": \"электроника\", \"3\": \"видеонаблюдение\", \"4\": \"регистратор\"}   \n",
       "793                            {\"1\": \"epg\", \"2\": \"электроника\", \"3\": \"видеонаблюдение\", \"4\": \"регистратор\"}   \n",
       "796                {\"1\": \"epg\", \"2\": \"электроника\", \"3\": \"видеонаблюдение\", \"4\": \"система видеонаблюдения\"}   \n",
       "\n",
       "                                                                                  categories2  \\\n",
       "125    {\"1\": \"epg\", \"2\": \"электроника\", \"3\": \"кабели и переходники\", \"4\": \"usb-концентратор\"}   \n",
       "508              {\"1\": \"epg\", \"2\": \"электроника\", \"3\": \"видеонаблюдение\", \"4\": \"регистратор\"}   \n",
       "510        {\"1\": \"epg\", \"2\": \"электроника\", \"3\": \"видеорегистратор\", \"4\": \"видеорегистратор\"}   \n",
       "793  {\"1\": \"epg\", \"2\": \"электроника\", \"3\": \"видеонаблюдение\", \"4\": \"система видеонаблюдения\"}   \n",
       "796              {\"1\": \"epg\", \"2\": \"электроника\", \"3\": \"видеонаблюдение\", \"4\": \"регистратор\"}   \n",
       "\n",
       "                                                                                                                        characteristic_attributes_mapping1  \\\n",
       "125                            {\"Страна-изготовитель\":[\"Китай\"],\"Тип\":[\"Беспроводное зарядное устройство\"],\"Бренд\":[\"WIWU\"],\"Цвет товара\":[\"серебристый\"]}   \n",
       "508  {\"Тип\":[\"Регистратор\"],\"Гарантийный срок\":[\"1 год\"],\"Бренд\":[\"Hikvision\"],\"Вес товара, г\":[\"2600\"],\"Страна-изготовитель\":[\"Китай\"],\"Размеры, мм\":[...   \n",
       "510  {\"Общее количество пикселей\":[\"12 Мпикс\"],\"Суммарный объем всех дисков, ГБ\":[\"20000\"],\"Число подключаемых жестких дисков, max\":[\"2\"],\"Сетевые прот...   \n",
       "793                                                                                 {\"Гарантийный срок\":[\"5 лет\"],\"Бренд\":[\"Dahua\"],\"Тип\":[\"Регистратор\"]}   \n",
       "796  {\"Количество в упаковке, шт\":[\"1\"],\"Общее количество пикселей\":[\"12 Мпикс\"],\"Материал купола\":[\"Пластик\"],\"Бренд\":[\"Dahua\"],\"Скорость съемки в мак...   \n",
       "\n",
       "                                                                                                                        characteristic_attributes_mapping2  \\\n",
       "125  {\"Цвет товара\":[\"серый\"],\"Бренд\":[\"WIWU\"],\"Тип\":[\"USB-концентратор\"],\"Электробезопасность\":[\"Защита от высокого напряжения\",\"Защита от короткого з...   \n",
       "508                        {\"Цвет товара\":[\"белый\"],\"Тип\":[\"Регистратор\"],\"Бренд\":[\"Hikvision\"],\"Тип матрицы\":[\"CMOS 1/2.8\\\"\"],\"Вид камеры\":[\"IP камера\"]}   \n",
       "510  {\"Наличие дисплея\":[\"Без дисплея\"],\"Диапазон рабочей температуры\":[\"от -10 до +55\"],\"Тип\":[\"Видеорегистратор\"],\"Комплектация\":[\"Видеорегистратор H...   \n",
       "793                                    {\"Страна-изготовитель\":[\"Китай\"],\"Тип\":[\"Система видеонаблюдения\"],\"Гарантийный срок\":[\"2 года\"],\"Бренд\":[\"Dahua\"]}   \n",
       "796  {\"Страна-изготовитель\":[\"Китай\"],\"Макс. температура эксплуатации, С°\":[\"55\"],\"Суммарный объем всех дисков, ГБ\":[\"12288\"],\"Форматы файлов видео\":[\"...   \n",
       "\n",
       "     comparison_result  missmatch_cat  \\\n",
       "125                  0            3.0   \n",
       "508                  0            3.0   \n",
       "510                  0            3.0   \n",
       "793                  0            4.0   \n",
       "796                  0            4.0   \n",
       "\n",
       "                                                                                                             miss_match_obj  \\\n",
       "125  {'3': ('зарядные устройства и док-станции', 'кабели и переходники'), '4': ('зарядное устройство', 'usb-концентратор')}   \n",
       "508                                {'3': ('видеорегистратор', 'видеонаблюдение'), '4': ('видеорегистратор', 'регистратор')}   \n",
       "510                                {'3': ('видеонаблюдение', 'видеорегистратор'), '4': ('регистратор', 'видеорегистратор')}   \n",
       "793                                                                       {'4': ('регистратор', 'система видеонаблюдения')}   \n",
       "796                                                                       {'4': ('система видеонаблюдения', 'регистратор')}   \n",
       "\n",
       "     missmatch_cat_cnt  \n",
       "125                2.0  \n",
       "508                2.0  \n",
       "510                2.0  \n",
       "793                1.0  \n",
       "796                1.0  "
      ]
     },
     "execution_count": 39,
     "metadata": {},
     "output_type": "execute_result"
    }
   ],
   "source": [
    "cat_missmatch_0.head()"
   ]
  },
  {
   "cell_type": "markdown",
   "id": "dd468198",
   "metadata": {},
   "source": [
    "## Парсинг категорий."
   ]
  },
  {
   "cell_type": "code",
   "execution_count": 242,
   "id": "0ba8b2c6",
   "metadata": {},
   "outputs": [],
   "source": [
    "features.reset_index(drop=True, inplace=True)"
   ]
  },
  {
   "cell_type": "code",
   "execution_count": 243,
   "id": "1efb0de8",
   "metadata": {},
   "outputs": [
    {
     "data": {
      "text/plain": [
       "Index(['target', 'variantid1', 'variantid2', 'name1', 'categories1',\n",
       "       'color_parsed1', 'pic_embeddings_resnet_v11',\n",
       "       'main_pic_embeddings_resnet_v11', 'name_bert_641',\n",
       "       'characteristic_attributes_mapping1', 'name2', 'categories2',\n",
       "       'color_parsed2', 'pic_embeddings_resnet_v12',\n",
       "       'main_pic_embeddings_resnet_v12', 'name_bert_642',\n",
       "       'characteristic_attributes_mapping2'],\n",
       "      dtype='object')"
      ]
     },
     "execution_count": 243,
     "metadata": {},
     "output_type": "execute_result"
    }
   ],
   "source": [
    "features.columns"
   ]
  },
  {
   "cell_type": "code",
   "execution_count": 244,
   "id": "168a5ff3",
   "metadata": {},
   "outputs": [],
   "source": [
    "nans = [np.nan for i in range(len(features))]\n",
    "df_cat1 = pd.DataFrame({1:nans, 2:nans, 3:nans, 4:nans})\n",
    "df_cat2 = pd.DataFrame({1:nans, 2:nans, 3:nans, 4:nans})"
   ]
  },
  {
   "cell_type": "code",
   "execution_count": 245,
   "id": "4104b617",
   "metadata": {},
   "outputs": [
    {
     "data": {
      "application/vnd.jupyter.widget-view+json": {
       "model_id": "87074db21f1b4d4a8b6de3132ddde050",
       "version_major": 2,
       "version_minor": 0
      },
      "text/plain": [
       "  0%|          | 0/413790 [00:00<?, ?it/s]"
      ]
     },
     "metadata": {},
     "output_type": "display_data"
    }
   ],
   "source": [
    "for i in tqdm_notebook(range(len(features))):    \n",
    "    cat1 = ast.literal_eval(features.loc[i,'categories1'])\n",
    "    cat2 = ast.literal_eval(features.loc[i,'categories2'])\n",
    "\n",
    "    for j in range(1,5):  \n",
    "        df_cat1.loc[i,j] = cat1[str(j)]\n",
    "        df_cat2.loc[i,j] = cat2[str(j)] "
   ]
  },
  {
   "cell_type": "code",
   "execution_count": 246,
   "id": "669322b5",
   "metadata": {},
   "outputs": [],
   "source": [
    "df_cat1.columns = ['cat1_1', 'cat2_1', 'cat3_1', 'cat4_1']\n",
    "df_cat2.columns = ['cat1_2', 'cat2_2', 'cat3_2', 'cat4_2']"
   ]
  },
  {
   "cell_type": "code",
   "execution_count": 247,
   "id": "9f8b488f",
   "metadata": {},
   "outputs": [],
   "source": [
    "df_cat = pd.concat([df_cat1, df_cat2], axis= 1)"
   ]
  },
  {
   "cell_type": "code",
   "execution_count": 248,
   "id": "b9076ffd",
   "metadata": {},
   "outputs": [
    {
     "name": "stdout",
     "output_type": "stream",
     "text": [
      "длина исходного дф 413790\n",
      "совпадений по категории 1го уровня - 413790\n",
      "совпадений по категории 2го уровня - 413541\n",
      "совпадений по категории 3го уровня - 408057\n",
      "совпадений по категории 4го уровня - 400591\n"
     ]
    }
   ],
   "source": [
    "print(f'длина исходного дф {len(df_cat)}')\n",
    "print(f\"совпадений по категории 1го уровня - {len(df_cat[df_cat['cat1_1'] == df_cat['cat1_2']])}\")\n",
    "print(f\"совпадений по категории 2го уровня - {len(df_cat[df_cat['cat2_1'] == df_cat['cat2_2']])}\")\n",
    "print(f\"совпадений по категории 3го уровня - {len(df_cat[df_cat['cat3_1'] == df_cat['cat3_2']])}\")\n",
    "print(f\"совпадений по категории 4го уровня - {len(df_cat[df_cat['cat4_1'] == df_cat['cat4_2']])}\")"
   ]
  },
  {
   "cell_type": "markdown",
   "id": "10155f84",
   "metadata": {},
   "source": [
    "* категория 1го уровня совпадает на всех парах независимо от таргета, ее можно исключить/"
   ]
  },
  {
   "cell_type": "code",
   "execution_count": 249,
   "id": "d7714373",
   "metadata": {},
   "outputs": [
    {
     "data": {
      "text/plain": [
       "cat1_1    0\n",
       "cat2_1    0\n",
       "cat3_1    0\n",
       "cat4_1    0\n",
       "cat1_2    0\n",
       "cat2_2    0\n",
       "cat3_2    0\n",
       "cat4_2    0\n",
       "dtype: int64"
      ]
     },
     "execution_count": 249,
     "metadata": {},
     "output_type": "execute_result"
    }
   ],
   "source": [
    "df_cat.isnull().sum()"
   ]
  },
  {
   "cell_type": "code",
   "execution_count": 250,
   "id": "ca23aef3",
   "metadata": {},
   "outputs": [],
   "source": [
    "features = pd.concat([features, df_cat], axis=1)"
   ]
  },
  {
   "cell_type": "code",
   "execution_count": 251,
   "id": "c9e95a5f",
   "metadata": {},
   "outputs": [
    {
     "data": {
      "text/plain": [
       "target                                False\n",
       "variantid1                            False\n",
       "variantid2                            False\n",
       "name1                                 False\n",
       "categories1                           False\n",
       "color_parsed1                          True\n",
       "pic_embeddings_resnet_v11              True\n",
       "main_pic_embeddings_resnet_v11        False\n",
       "name_bert_641                         False\n",
       "characteristic_attributes_mapping1     True\n",
       "name2                                 False\n",
       "categories2                           False\n",
       "color_parsed2                          True\n",
       "pic_embeddings_resnet_v12              True\n",
       "main_pic_embeddings_resnet_v12        False\n",
       "name_bert_642                         False\n",
       "characteristic_attributes_mapping2     True\n",
       "cat1_1                                False\n",
       "cat2_1                                False\n",
       "cat3_1                                False\n",
       "cat4_1                                False\n",
       "cat1_2                                False\n",
       "cat2_2                                False\n",
       "cat3_2                                False\n",
       "cat4_2                                False\n",
       "dtype: bool"
      ]
     },
     "execution_count": 251,
     "metadata": {},
     "output_type": "execute_result"
    }
   ],
   "source": [
    "features.isnull().any()"
   ]
  },
  {
   "cell_type": "markdown",
   "id": "5baa0db2",
   "metadata": {},
   "source": [
    "## Работа с null"
   ]
  },
  {
   "cell_type": "code",
   "execution_count": 252,
   "id": "b7c3d092",
   "metadata": {},
   "outputs": [
    {
     "data": {
      "text/html": [
       "<div>\n",
       "<style scoped>\n",
       "    .dataframe tbody tr th:only-of-type {\n",
       "        vertical-align: middle;\n",
       "    }\n",
       "\n",
       "    .dataframe tbody tr th {\n",
       "        vertical-align: top;\n",
       "    }\n",
       "\n",
       "    .dataframe thead th {\n",
       "        text-align: right;\n",
       "    }\n",
       "</style>\n",
       "<table border=\"1\" class=\"dataframe\">\n",
       "  <thead>\n",
       "    <tr style=\"text-align: right;\">\n",
       "      <th></th>\n",
       "      <th>cat2_1</th>\n",
       "      <th>count</th>\n",
       "      <th>size</th>\n",
       "      <th>nulls_by_category</th>\n",
       "    </tr>\n",
       "  </thead>\n",
       "  <tbody>\n",
       "    <tr>\n",
       "      <th>0</th>\n",
       "      <td>Детские товары</td>\n",
       "      <td>3</td>\n",
       "      <td>3</td>\n",
       "      <td>0</td>\n",
       "    </tr>\n",
       "    <tr>\n",
       "      <th>1</th>\n",
       "      <td>Строительство и ремонт</td>\n",
       "      <td>3</td>\n",
       "      <td>3</td>\n",
       "      <td>0</td>\n",
       "    </tr>\n",
       "    <tr>\n",
       "      <th>2</th>\n",
       "      <td>Электроника</td>\n",
       "      <td>413767</td>\n",
       "      <td>413784</td>\n",
       "      <td>17</td>\n",
       "    </tr>\n",
       "  </tbody>\n",
       "</table>\n",
       "</div>"
      ],
      "text/plain": [
       "                   cat2_1   count    size  nulls_by_category\n",
       "0          Детские товары       3       3                  0\n",
       "1  Строительство и ремонт       3       3                  0\n",
       "2             Электроника  413767  413784                 17"
      ]
     },
     "execution_count": 252,
     "metadata": {},
     "output_type": "execute_result"
    }
   ],
   "source": [
    "# считаем null в разрезе категории 2-го уровня для 1го товара\n",
    "cat2_nulls_1 = features.groupby('cat2_1', as_index=False).agg({'characteristic_attributes_mapping1':['count', np.size]})\n",
    "cat2_nulls_1.columns = ['_'.join(col).strip() for col in cat2_nulls_1.columns.values]\n",
    "cat2_nulls_1.columns = ['cat2_1', 'count','size']\n",
    "\n",
    "cat2_nulls_1['nulls_by_category'] =  cat2_nulls_1['size'] - cat2_nulls_1['count']\n",
    "\n",
    "cat2_nulls_1"
   ]
  },
  {
   "cell_type": "code",
   "execution_count": 253,
   "id": "6ecfcbed",
   "metadata": {},
   "outputs": [
    {
     "data": {
      "text/html": [
       "<div>\n",
       "<style scoped>\n",
       "    .dataframe tbody tr th:only-of-type {\n",
       "        vertical-align: middle;\n",
       "    }\n",
       "\n",
       "    .dataframe tbody tr th {\n",
       "        vertical-align: top;\n",
       "    }\n",
       "\n",
       "    .dataframe thead th {\n",
       "        text-align: right;\n",
       "    }\n",
       "</style>\n",
       "<table border=\"1\" class=\"dataframe\">\n",
       "  <thead>\n",
       "    <tr style=\"text-align: right;\">\n",
       "      <th></th>\n",
       "      <th>cat2_2</th>\n",
       "      <th>count</th>\n",
       "      <th>size</th>\n",
       "      <th>nulls_by_category</th>\n",
       "    </tr>\n",
       "  </thead>\n",
       "  <tbody>\n",
       "    <tr>\n",
       "      <th>0</th>\n",
       "      <td>Автотовары</td>\n",
       "      <td>34</td>\n",
       "      <td>34</td>\n",
       "      <td>0</td>\n",
       "    </tr>\n",
       "    <tr>\n",
       "      <th>1</th>\n",
       "      <td>Бытовая техника</td>\n",
       "      <td>5</td>\n",
       "      <td>5</td>\n",
       "      <td>0</td>\n",
       "    </tr>\n",
       "    <tr>\n",
       "      <th>2</th>\n",
       "      <td>Бытовая химия</td>\n",
       "      <td>3</td>\n",
       "      <td>3</td>\n",
       "      <td>0</td>\n",
       "    </tr>\n",
       "    <tr>\n",
       "      <th>3</th>\n",
       "      <td>Галантерея и украшения</td>\n",
       "      <td>2</td>\n",
       "      <td>2</td>\n",
       "      <td>0</td>\n",
       "    </tr>\n",
       "    <tr>\n",
       "      <th>4</th>\n",
       "      <td>Детские товары</td>\n",
       "      <td>23</td>\n",
       "      <td>23</td>\n",
       "      <td>0</td>\n",
       "    </tr>\n",
       "    <tr>\n",
       "      <th>5</th>\n",
       "      <td>Дом и сад</td>\n",
       "      <td>19</td>\n",
       "      <td>19</td>\n",
       "      <td>0</td>\n",
       "    </tr>\n",
       "    <tr>\n",
       "      <th>6</th>\n",
       "      <td>Канцелярские товары</td>\n",
       "      <td>24</td>\n",
       "      <td>24</td>\n",
       "      <td>0</td>\n",
       "    </tr>\n",
       "    <tr>\n",
       "      <th>7</th>\n",
       "      <td>Спорт и отдых</td>\n",
       "      <td>13</td>\n",
       "      <td>13</td>\n",
       "      <td>0</td>\n",
       "    </tr>\n",
       "    <tr>\n",
       "      <th>8</th>\n",
       "      <td>Строительство и ремонт</td>\n",
       "      <td>53</td>\n",
       "      <td>53</td>\n",
       "      <td>0</td>\n",
       "    </tr>\n",
       "    <tr>\n",
       "      <th>9</th>\n",
       "      <td>Товары для взрослых</td>\n",
       "      <td>1</td>\n",
       "      <td>1</td>\n",
       "      <td>0</td>\n",
       "    </tr>\n",
       "    <tr>\n",
       "      <th>10</th>\n",
       "      <td>Товары для животных</td>\n",
       "      <td>1</td>\n",
       "      <td>1</td>\n",
       "      <td>0</td>\n",
       "    </tr>\n",
       "    <tr>\n",
       "      <th>11</th>\n",
       "      <td>Хобби и творчество</td>\n",
       "      <td>67</td>\n",
       "      <td>67</td>\n",
       "      <td>0</td>\n",
       "    </tr>\n",
       "    <tr>\n",
       "      <th>12</th>\n",
       "      <td>Электроника</td>\n",
       "      <td>413531</td>\n",
       "      <td>413545</td>\n",
       "      <td>14</td>\n",
       "    </tr>\n",
       "  </tbody>\n",
       "</table>\n",
       "</div>"
      ],
      "text/plain": [
       "                    cat2_2   count    size  nulls_by_category\n",
       "0               Автотовары      34      34                  0\n",
       "1          Бытовая техника       5       5                  0\n",
       "2            Бытовая химия       3       3                  0\n",
       "3   Галантерея и украшения       2       2                  0\n",
       "4           Детские товары      23      23                  0\n",
       "5                Дом и сад      19      19                  0\n",
       "6      Канцелярские товары      24      24                  0\n",
       "7            Спорт и отдых      13      13                  0\n",
       "8   Строительство и ремонт      53      53                  0\n",
       "9      Товары для взрослых       1       1                  0\n",
       "10     Товары для животных       1       1                  0\n",
       "11      Хобби и творчество      67      67                  0\n",
       "12             Электроника  413531  413545                 14"
      ]
     },
     "execution_count": 253,
     "metadata": {},
     "output_type": "execute_result"
    }
   ],
   "source": [
    "# считаем null в разрезе категории 2-го уровня для 2го товара\n",
    "cat2_nulls_2 = features.groupby('cat2_2', as_index=False).agg({'characteristic_attributes_mapping2':['count', np.size]})\n",
    "cat2_nulls_2.columns = ['_'.join(col).strip() for col in cat2_nulls_2.columns.values]\n",
    "cat2_nulls_2.columns = ['cat2_2', 'count','size']\n",
    "\n",
    "cat2_nulls_2['nulls_by_category'] =  cat2_nulls_2['size'] - cat2_nulls_2['count']\n",
    "\n",
    "cat2_nulls_2"
   ]
  },
  {
   "cell_type": "markdown",
   "id": "4917b6ac",
   "metadata": {},
   "source": [
    "* Пропуски в характеристика встречаются только в категории Электроника.\n",
    "* Предлагаю удалить."
   ]
  },
  {
   "cell_type": "code",
   "execution_count": 254,
   "id": "adb069b6",
   "metadata": {},
   "outputs": [
    {
     "data": {
      "text/plain": [
       "target                                     0\n",
       "variantid1                                 0\n",
       "variantid2                                 0\n",
       "name1                                      0\n",
       "categories1                                0\n",
       "color_parsed1                          50118\n",
       "pic_embeddings_resnet_v11             104326\n",
       "main_pic_embeddings_resnet_v11             0\n",
       "name_bert_641                              0\n",
       "characteristic_attributes_mapping1        17\n",
       "name2                                      0\n",
       "categories2                                0\n",
       "color_parsed2                          56488\n",
       "pic_embeddings_resnet_v12             108936\n",
       "main_pic_embeddings_resnet_v12             0\n",
       "name_bert_642                              0\n",
       "characteristic_attributes_mapping2        14\n",
       "cat1_1                                     0\n",
       "cat2_1                                     0\n",
       "cat3_1                                     0\n",
       "cat4_1                                     0\n",
       "cat1_2                                     0\n",
       "cat2_2                                     0\n",
       "cat3_2                                     0\n",
       "cat4_2                                     0\n",
       "dtype: int64"
      ]
     },
     "execution_count": 254,
     "metadata": {},
     "output_type": "execute_result"
    }
   ],
   "source": [
    "features.isnull().sum()"
   ]
  },
  {
   "cell_type": "markdown",
   "id": "3a9f5ab2",
   "metadata": {},
   "source": [
    "* много пропусков по цвету, попробую заполнить топ цветом в разрезе категория-2 уровня"
   ]
  },
  {
   "cell_type": "code",
   "execution_count": 293,
   "id": "dd80518e",
   "metadata": {},
   "outputs": [
    {
     "data": {
      "text/plain": [
       "1     0.745444\n",
       "2     0.203408\n",
       "3     0.033928\n",
       "4     0.010994\n",
       "5     0.002535\n",
       "6     0.002506\n",
       "8     0.000401\n",
       "7     0.000251\n",
       "9     0.000188\n",
       "15    0.000119\n",
       "16    0.000058\n",
       "12    0.000050\n",
       "10    0.000050\n",
       "14    0.000024\n",
       "11    0.000021\n",
       "13    0.000013\n",
       "18    0.000005\n",
       "17    0.000003\n",
       "Name: color_parsed, dtype: float64"
      ]
     },
     "execution_count": 293,
     "metadata": {},
     "output_type": "execute_result"
    }
   ],
   "source": [
    "etl[etl['color_parsed'].notnull()]['color_parsed'].apply(lambda x: len(list(x))).value_counts(normalize=True)"
   ]
  },
  {
   "cell_type": "code",
   "execution_count": 295,
   "id": "917e5562",
   "metadata": {},
   "outputs": [],
   "source": [
    "etl.loc[etl['color_parsed'].notnull(), 'color_parsed'] = etl[etl['color_parsed'].notnull()]['color_parsed'].apply(lambda x: list(x))"
   ]
  },
  {
   "cell_type": "code",
   "execution_count": 296,
   "id": "19df9a1d",
   "metadata": {},
   "outputs": [],
   "source": [
    "etl['len_color_parsed'] = np.nan\n",
    "etl.loc[etl['color_parsed'].notnull(), 'len_color_parsed'] = etl[etl['color_parsed'].notnull()]['color_parsed'].apply(lambda x: len(x))"
   ]
  },
  {
   "cell_type": "code",
   "execution_count": 299,
   "id": "133cf652",
   "metadata": {},
   "outputs": [
    {
     "name": "stdout",
     "output_type": "stream",
     "text": [
      "(77021, 9)\n"
     ]
    }
   ],
   "source": [
    "print(etl[etl['len_color_parsed'] == 2].shape)\n",
    "print((etl[etl['len_color_parsed'] == 2].shape)"
   ]
  },
  {
   "cell_type": "code",
   "execution_count": 255,
   "id": "06fd364e",
   "metadata": {},
   "outputs": [],
   "source": [
    "# # перевожу поле с цветом к формату строки, там где список из нескольких цветов беру первый вариант.\n",
    "\n",
    "# features.loc[features['color_parsed1'].notnull(), 'color_parsed1'] = features.loc[features['color_parsed1'].notnull(), 'color_parsed1'].apply(lambda x: list(x)[0])\n",
    "\n",
    "# features.loc[features['color_parsed2'].notnull(), 'color_parsed2'] = features.loc[features['color_parsed2'].notnull(), 'color_parsed2'].apply(lambda x: list(x)[0])"
   ]
  },
  {
   "cell_type": "code",
   "execution_count": 277,
   "id": "7d355900",
   "metadata": {},
   "outputs": [],
   "source": [
    "# группировка для определения топ цвета в разрезе категория-2,категория-3 для 1го товара\n",
    "top_colors_by_cat_1 = features[features['color_parsed1'].notnull()] \\\n",
    "                        .groupby(['cat3_1', 'color_parsed1'], as_index=False).agg({'target':np.size})\n",
    "# top_colors_by_cat_1"
   ]
  },
  {
   "cell_type": "code",
   "execution_count": 278,
   "id": "8c51a33d",
   "metadata": {},
   "outputs": [],
   "source": [
    "# группировка для определения топ цвета в разрезе категория-2,категория-3 для 2го товара\n",
    "top_colors_by_cat_2 = features[features['color_parsed2'].notnull()] \\\n",
    "                        .groupby(['cat3_2', 'color_parsed2'], as_index=False).agg({'target':np.size})\n",
    "# top_colors_by_cat_2"
   ]
  },
  {
   "cell_type": "code",
   "execution_count": 279,
   "id": "264652f4",
   "metadata": {},
   "outputs": [],
   "source": [
    "# features.iloc[features[(features['color_parsed1'].isnull()) | (features['color_parsed2'].isnull())].index,:]"
   ]
  },
  {
   "cell_type": "code",
   "execution_count": null,
   "id": "6b55e432",
   "metadata": {},
   "outputs": [],
   "source": []
  },
  {
   "cell_type": "code",
   "execution_count": 280,
   "id": "f6733031",
   "metadata": {},
   "outputs": [],
   "source": [
    "# testdf = pd.concat([\n",
    "#     features[features['color_parsed1'].isnull()].head(10),\n",
    "#     features[features['color_parsed2'].isnull()].head(10)\n",
    "# ], axis= 0).reset_index(drop=True)"
   ]
  },
  {
   "cell_type": "code",
   "execution_count": 285,
   "id": "088ed88f",
   "metadata": {},
   "outputs": [
    {
     "data": {
      "application/vnd.jupyter.widget-view+json": {
       "model_id": "b2d8a27acf204636bd96c680a7b9db4d",
       "version_major": 2,
       "version_minor": 0
      },
      "text/plain": [
       "  0%|          | 0/413790 [00:00<?, ?it/s]"
      ]
     },
     "metadata": {},
     "output_type": "display_data"
    }
   ],
   "source": [
    "for i in tqdm_notebook(range(len(features))):\n",
    "    if features.loc[i,'color_parsed1'] is None:\n",
    "        try:\n",
    "            features.loc[i,'color_parsed1'] = top_colors_by_cat_1[(top_colors_by_cat_1['cat3_1'] == features.loc[i, 'cat3_1'])] \\\n",
    "                                                            .nlargest(1, 'target')['color_parsed1'].values[0]\n",
    "        except:\n",
    "            features.loc[i,'color_parsed1'] = 'черный'\n",
    "    if features.loc[i,'color_parsed2'] is None:\n",
    "        try:\n",
    "            features.loc[i,'color_parsed2'] = top_colors_by_cat_2[(top_colors_by_cat_2['cat3_2'] == features.loc[i, 'cat3_2'])] \\\n",
    "                                                            .nlargest(1, 'target')['color_parsed2'].values[0]\n",
    "        except:\n",
    "            features.loc[i,'color_parsed2'] = 'черный'\n",
    "    "
   ]
  },
  {
   "cell_type": "code",
   "execution_count": 286,
   "id": "9a9a2ac9",
   "metadata": {},
   "outputs": [
    {
     "data": {
      "text/plain": [
       "color_parsed1  \n",
       "черный             234238\n",
       "белый               30357\n",
       "black               24140\n",
       "серый               23439\n",
       "серебристый         11315\n",
       "                    ...  \n",
       "гранитный               1\n",
       "темно-оливковый         1\n",
       "перу                    1\n",
       "томатный                1\n",
       "amber                   1\n",
       "Length: 189, dtype: int64"
      ]
     },
     "execution_count": 286,
     "metadata": {},
     "output_type": "execute_result"
    }
   ],
   "source": [
    "features[['color_parsed1']].value_counts()"
   ]
  },
  {
   "cell_type": "code",
   "execution_count": 287,
   "id": "2cb5b7cf",
   "metadata": {},
   "outputs": [
    {
     "data": {
      "text/plain": [
       "color_parsed2\n",
       "черный           233057\n",
       "белый             30682\n",
       "black             24870\n",
       "серый             23040\n",
       "серебристый       10855\n",
       "                  ...  \n",
       "vanilla               1\n",
       "pear                  1\n",
       "терракота             1\n",
       "томатный              1\n",
       "amber                 1\n",
       "Length: 193, dtype: int64"
      ]
     },
     "execution_count": 287,
     "metadata": {},
     "output_type": "execute_result"
    }
   ],
   "source": [
    "features[['color_parsed2']].value_counts()"
   ]
  },
  {
   "cell_type": "code",
   "execution_count": 289,
   "id": "85ad9e0b",
   "metadata": {},
   "outputs": [
    {
     "data": {
      "text/plain": [
       "color_parsed1    0\n",
       "color_parsed2    0\n",
       "dtype: int64"
      ]
     },
     "execution_count": 289,
     "metadata": {},
     "output_type": "execute_result"
    }
   ],
   "source": [
    "features[['color_parsed1','color_parsed2']].isnull().sum()"
   ]
  },
  {
   "cell_type": "code",
   "execution_count": null,
   "id": "dd454cc2",
   "metadata": {},
   "outputs": [],
   "source": []
  }
 ],
 "metadata": {
  "kernelspec": {
   "display_name": "Python 3 (ipykernel)",
   "language": "python",
   "name": "python3"
  },
  "language_info": {
   "codemirror_mode": {
    "name": "ipython",
    "version": 3
   },
   "file_extension": ".py",
   "mimetype": "text/x-python",
   "name": "python",
   "nbconvert_exporter": "python",
   "pygments_lexer": "ipython3",
   "version": "3.9.12"
  }
 },
 "nbformat": 4,
 "nbformat_minor": 5
}
