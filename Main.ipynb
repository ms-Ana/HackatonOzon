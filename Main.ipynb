{
 "cells": [
  {
   "cell_type": "code",
   "execution_count": 1,
   "metadata": {
    "ExecuteTime": {
     "end_time": "2023-05-19T06:10:23.678400Z",
     "start_time": "2023-05-19T06:10:16.503064Z"
    }
   },
   "outputs": [],
   "source": [
    "import json\n",
    "from functools import partial\n",
    "from typing import List\n",
    "import matplotlib.pyplot as plt\n",
    "import numpy as np\n",
    "import pandas as pd\n",
    "import seaborn as sns\n",
    "from catboost import CatBoostClassifier, Pool\n",
    "from catboost.utils import eval_metric\n",
    "from scipy.spatial.distance import cosine, euclidean\n",
    "from sklearn.metrics import pairwise_distances\n",
    "from sklearn.model_selection import train_test_split\n"
   ]
  },
  {
   "cell_type": "code",
   "execution_count": 2,
   "metadata": {},
   "outputs": [],
   "source": [
    "%load_ext autoreload\n",
    "%autoreload 2"
   ]
  },
  {
   "attachments": {},
   "cell_type": "markdown",
   "metadata": {},
   "source": [
    "### Load data"
   ]
  },
  {
   "cell_type": "code",
   "execution_count": 3,
   "metadata": {
    "ExecuteTime": {
     "end_time": "2023-05-19T06:12:05.012452Z",
     "start_time": "2023-05-19T06:11:27.878101Z"
    }
   },
   "outputs": [],
   "source": [
    "dataset = pd.read_parquet(\"./data/full_dataset.parquet\")\n",
    "etl = pd.read_parquet(\"./data/train_data.parquet\")\n",
    "\n",
    "test_dataset = pd.read_parquet(\"./data/test_data.parquet\")\n",
    "test_pairs = pd.read_parquet(\"./data/test_pairs_wo_target.parquet\")\n"
   ]
  },
  {
   "cell_type": "code",
   "execution_count": 4,
   "metadata": {},
   "outputs": [
    {
     "name": "stdout",
     "output_type": "stream",
     "text": [
      "<class 'pandas.core.frame.DataFrame'>\n",
      "Index: 456843 entries, 0 to 457062\n",
      "Data columns (total 18 columns):\n",
      " #   Column                             Non-Null Count   Dtype \n",
      "---  ------                             --------------   ----- \n",
      " 0   variantid                          456843 non-null  int64 \n",
      " 1   name                               456843 non-null  object\n",
      " 2   color_parsed                       378543 non-null  object\n",
      " 3   pic_embeddings_resnet_v1           303317 non-null  object\n",
      " 4   main_pic_embeddings_resnet_v1      456843 non-null  object\n",
      " 5   name_bert_64                       456843 non-null  object\n",
      " 6   characteristic_attributes_mapping  456816 non-null  object\n",
      " 7   cat_3                              456843 non-null  object\n",
      " 8   cat_4                              456843 non-null  object\n",
      " 9   name_preprocessed                  456843 non-null  object\n",
      " 10  name_dimensions                    456843 non-null  object\n",
      " 11  name_code                          456843 non-null  object\n",
      " 12  name_rus_abbreviations             456843 non-null  object\n",
      " 13  name_eng_abbreviations             456843 non-null  object\n",
      " 14  name_model                         456843 non-null  object\n",
      " 15  tokens                             456843 non-null  object\n",
      " 16  name_full_preprocessed             456843 non-null  object\n",
      " 17  name_tokens                        456843 non-null  object\n",
      "dtypes: int64(1), object(17)\n",
      "memory usage: 66.2+ MB\n"
     ]
    }
   ],
   "source": [
    "etl.info()"
   ]
  },
  {
   "cell_type": "code",
   "execution_count": 5,
   "metadata": {},
   "outputs": [
    {
     "name": "stdout",
     "output_type": "stream",
     "text": [
      "<class 'pandas.core.frame.DataFrame'>\n",
      "RangeIndex: 35730 entries, 0 to 35729\n",
      "Data columns (total 9 columns):\n",
      " #   Column                             Non-Null Count  Dtype \n",
      "---  ------                             --------------  ----- \n",
      " 0   variantid                          35730 non-null  int64 \n",
      " 1   name                               35730 non-null  object\n",
      " 2   color_parsed                       26089 non-null  object\n",
      " 3   pic_embeddings_resnet_v1           19977 non-null  object\n",
      " 4   main_pic_embeddings_resnet_v1      35730 non-null  object\n",
      " 5   name_bert_64                       35730 non-null  object\n",
      " 6   characteristic_attributes_mapping  35726 non-null  object\n",
      " 7   cat_3                              35730 non-null  object\n",
      " 8   cat_4                              35730 non-null  object\n",
      "dtypes: int64(1), object(8)\n",
      "memory usage: 2.5+ MB\n"
     ]
    }
   ],
   "source": [
    "test_dataset.info()"
   ]
  },
  {
   "cell_type": "code",
   "execution_count": 6,
   "metadata": {},
   "outputs": [
    {
     "data": {
      "text/html": [
       "<div>\n",
       "<style scoped>\n",
       "    .dataframe tbody tr th:only-of-type {\n",
       "        vertical-align: middle;\n",
       "    }\n",
       "\n",
       "    .dataframe tbody tr th {\n",
       "        vertical-align: top;\n",
       "    }\n",
       "\n",
       "    .dataframe thead th {\n",
       "        text-align: right;\n",
       "    }\n",
       "</style>\n",
       "<table border=\"1\" class=\"dataframe\">\n",
       "  <thead>\n",
       "    <tr style=\"text-align: right;\">\n",
       "      <th></th>\n",
       "      <th>variantid</th>\n",
       "      <th>name</th>\n",
       "      <th>color_parsed</th>\n",
       "      <th>pic_embeddings_resnet_v1</th>\n",
       "      <th>main_pic_embeddings_resnet_v1</th>\n",
       "      <th>name_bert_64</th>\n",
       "      <th>characteristic_attributes_mapping</th>\n",
       "      <th>cat_3</th>\n",
       "      <th>cat_4</th>\n",
       "      <th>name_preprocessed</th>\n",
       "      <th>name_dimensions</th>\n",
       "      <th>name_code</th>\n",
       "      <th>name_rus_abbreviations</th>\n",
       "      <th>name_eng_abbreviations</th>\n",
       "      <th>name_model</th>\n",
       "      <th>tokens</th>\n",
       "      <th>name_full_preprocessed</th>\n",
       "      <th>name_tokens</th>\n",
       "    </tr>\n",
       "  </thead>\n",
       "  <tbody>\n",
       "    <tr>\n",
       "      <th>0</th>\n",
       "      <td>51195767</td>\n",
       "      <td>Удлинитель Партнер-Электро ПВС 2х0,75 ГОСТ,6A,...</td>\n",
       "      <td>[оранжевый]</td>\n",
       "      <td>None</td>\n",
       "      <td>[[0.04603629, 0.18839523, -0.09973055, -0.6636...</td>\n",
       "      <td>[-0.47045058, 0.67237014, 0.48984158, -0.54485...</td>\n",
       "      <td>[Номинальный ток, А_10, Цвет товара_оранжевый,...</td>\n",
       "      <td>Сетевые фильтры, разветвители и удлинители</td>\n",
       "      <td>Сетевой фильтр, удлинитель, разветвитель</td>\n",
       "      <td>Удлинитель Партнер-Электро ПВС 2х0 75 ГОСТ 6А3...</td>\n",
       "      <td>[]</td>\n",
       "      <td>[]</td>\n",
       "      <td>[ПВС, ГОСТ]</td>\n",
       "      <td>[IP]</td>\n",
       "      <td>[2х0, 6А30]</td>\n",
       "      <td>[удлинитель, партнерэлектро, пвс, 2х075, гост6...</td>\n",
       "      <td>удлинитель партнерэлектро пвс гост метровip</td>\n",
       "      <td>[удлинитель, партнерэлектро, пвс, гост, метровip]</td>\n",
       "    </tr>\n",
       "    <tr>\n",
       "      <th>1</th>\n",
       "      <td>53565809</td>\n",
       "      <td>Магнитный кабель USB 2.0 A (m) - USB Type-C (m...</td>\n",
       "      <td>[красный]</td>\n",
       "      <td>[[0.26863545, -0.3130674, 0.29023397, 0.073978...</td>\n",
       "      <td>[[1.1471839, -0.665361, 0.7745614, 0.26716197,...</td>\n",
       "      <td>[-0.6575592, 0.6522429, 0.5426037, -0.54347897...</td>\n",
       "      <td>[Конструктивные особенности_Магнитная конструк...</td>\n",
       "      <td>Кабели и переходники</td>\n",
       "      <td>Кабель</td>\n",
       "      <td>Магнитный кабель USB (m) - USB  (m)  Baseus Zi...</td>\n",
       "      <td>[2.0 А, 2 м]</td>\n",
       "      <td>[Type-C, CATXC-B09]</td>\n",
       "      <td>[]</td>\n",
       "      <td>[USB, USB]</td>\n",
       "      <td>[]</td>\n",
       "      <td>[магнитный, кабель, usb, 20, usb, typec, 2м, b...</td>\n",
       "      <td>магнитный кабель usb usb typec baseus zinc mag...</td>\n",
       "      <td>[магнитный, кабель, usb, usb, typec, baseus, z...</td>\n",
       "    </tr>\n",
       "  </tbody>\n",
       "</table>\n",
       "</div>"
      ],
      "text/plain": [
       "   variantid                                               name color_parsed   \n",
       "0   51195767  Удлинитель Партнер-Электро ПВС 2х0,75 ГОСТ,6A,...  [оранжевый]  \\\n",
       "1   53565809  Магнитный кабель USB 2.0 A (m) - USB Type-C (m...    [красный]   \n",
       "\n",
       "                            pic_embeddings_resnet_v1   \n",
       "0                                               None  \\\n",
       "1  [[0.26863545, -0.3130674, 0.29023397, 0.073978...   \n",
       "\n",
       "                       main_pic_embeddings_resnet_v1   \n",
       "0  [[0.04603629, 0.18839523, -0.09973055, -0.6636...  \\\n",
       "1  [[1.1471839, -0.665361, 0.7745614, 0.26716197,...   \n",
       "\n",
       "                                        name_bert_64   \n",
       "0  [-0.47045058, 0.67237014, 0.48984158, -0.54485...  \\\n",
       "1  [-0.6575592, 0.6522429, 0.5426037, -0.54347897...   \n",
       "\n",
       "                   characteristic_attributes_mapping   \n",
       "0  [Номинальный ток, А_10, Цвет товара_оранжевый,...  \\\n",
       "1  [Конструктивные особенности_Магнитная конструк...   \n",
       "\n",
       "                                        cat_3   \n",
       "0  Сетевые фильтры, разветвители и удлинители  \\\n",
       "1                        Кабели и переходники   \n",
       "\n",
       "                                      cat_4   \n",
       "0  Сетевой фильтр, удлинитель, разветвитель  \\\n",
       "1                                    Кабель   \n",
       "\n",
       "                                   name_preprocessed name_dimensions   \n",
       "0  Удлинитель Партнер-Электро ПВС 2х0 75 ГОСТ 6А3...              []  \\\n",
       "1  Магнитный кабель USB (m) - USB  (m)  Baseus Zi...    [2.0 А, 2 м]   \n",
       "\n",
       "             name_code name_rus_abbreviations name_eng_abbreviations   \n",
       "0                   []            [ПВС, ГОСТ]                   [IP]  \\\n",
       "1  [Type-C, CATXC-B09]                     []             [USB, USB]   \n",
       "\n",
       "    name_model                                             tokens   \n",
       "0  [2х0, 6А30]  [удлинитель, партнерэлектро, пвс, 2х075, гост6...  \\\n",
       "1           []  [магнитный, кабель, usb, 20, usb, typec, 2м, b...   \n",
       "\n",
       "                              name_full_preprocessed   \n",
       "0        удлинитель партнерэлектро пвс гост метровip  \\\n",
       "1  магнитный кабель usb usb typec baseus zinc mag...   \n",
       "\n",
       "                                         name_tokens  \n",
       "0  [удлинитель, партнерэлектро, пвс, гост, метровip]  \n",
       "1  [магнитный, кабель, usb, usb, typec, baseus, z...  "
      ]
     },
     "execution_count": 6,
     "metadata": {},
     "output_type": "execute_result"
    }
   ],
   "source": [
    "etl.head(2)"
   ]
  },
  {
   "attachments": {},
   "cell_type": "markdown",
   "metadata": {},
   "source": [
    "### Create text features"
   ]
  },
  {
   "cell_type": "code",
   "execution_count": 7,
   "metadata": {},
   "outputs": [
    {
     "name": "stderr",
     "output_type": "stream",
     "text": [
      "[nltk_data] Downloading package wordnet to /home/ana/nltk_data...\n",
      "[nltk_data]   Package wordnet is already up-to-date!\n"
     ]
    }
   ],
   "source": [
    "from utils.text_features import create_text_features\n",
    "etl = create_text_features(etl)"
   ]
  },
  {
   "cell_type": "code",
   "execution_count": 8,
   "metadata": {},
   "outputs": [],
   "source": [
    "test_dataset = create_text_features(test_dataset)"
   ]
  },
  {
   "cell_type": "code",
   "execution_count": 9,
   "metadata": {},
   "outputs": [
    {
     "data": {
      "text/html": [
       "<div>\n",
       "<style scoped>\n",
       "    .dataframe tbody tr th:only-of-type {\n",
       "        vertical-align: middle;\n",
       "    }\n",
       "\n",
       "    .dataframe tbody tr th {\n",
       "        vertical-align: top;\n",
       "    }\n",
       "\n",
       "    .dataframe thead th {\n",
       "        text-align: right;\n",
       "    }\n",
       "</style>\n",
       "<table border=\"1\" class=\"dataframe\">\n",
       "  <thead>\n",
       "    <tr style=\"text-align: right;\">\n",
       "      <th></th>\n",
       "      <th>variantid</th>\n",
       "      <th>name</th>\n",
       "      <th>color_parsed</th>\n",
       "      <th>pic_embeddings_resnet_v1</th>\n",
       "      <th>main_pic_embeddings_resnet_v1</th>\n",
       "      <th>name_bert_64</th>\n",
       "      <th>characteristic_attributes_mapping</th>\n",
       "      <th>cat_3</th>\n",
       "      <th>cat_4</th>\n",
       "      <th>name_preprocessed</th>\n",
       "      <th>name_dimensions</th>\n",
       "      <th>name_code</th>\n",
       "      <th>name_rus_abbreviations</th>\n",
       "      <th>name_eng_abbreviations</th>\n",
       "      <th>name_model</th>\n",
       "      <th>tokens</th>\n",
       "      <th>name_full_preprocessed</th>\n",
       "      <th>name_tokens</th>\n",
       "    </tr>\n",
       "  </thead>\n",
       "  <tbody>\n",
       "    <tr>\n",
       "      <th>0</th>\n",
       "      <td>51195767</td>\n",
       "      <td>Удлинитель Партнер-Электро ПВС 2х0,75 ГОСТ,6A,...</td>\n",
       "      <td>[оранжевый]</td>\n",
       "      <td>None</td>\n",
       "      <td>[[0.04603629, 0.18839523, -0.09973055, -0.6636...</td>\n",
       "      <td>[-0.47045058, 0.67237014, 0.48984158, -0.54485...</td>\n",
       "      <td>[Номинальный ток, А_10, Цвет товара_оранжевый,...</td>\n",
       "      <td>Сетевые фильтры, разветвители и удлинители</td>\n",
       "      <td>Сетевой фильтр, удлинитель, разветвитель</td>\n",
       "      <td>Удлинитель Партнер-Электро ПВС 2х0 75 ГОСТ 6А3...</td>\n",
       "      <td>[]</td>\n",
       "      <td>[]</td>\n",
       "      <td>[ПВС, ГОСТ]</td>\n",
       "      <td>[IP]</td>\n",
       "      <td>[2х0, 6А30]</td>\n",
       "      <td>[удлинитель, партнерэлектро, пвс, 2х075, гост6...</td>\n",
       "      <td>удлинитель партнерэлектро пвс гост метровip</td>\n",
       "      <td>[удлинитель, партнерэлектро, пвс, гост, метровip]</td>\n",
       "    </tr>\n",
       "    <tr>\n",
       "      <th>1</th>\n",
       "      <td>53565809</td>\n",
       "      <td>Магнитный кабель USB 2.0 A (m) - USB Type-C (m...</td>\n",
       "      <td>[красный]</td>\n",
       "      <td>[[0.26863545, -0.3130674, 0.29023397, 0.073978...</td>\n",
       "      <td>[[1.1471839, -0.665361, 0.7745614, 0.26716197,...</td>\n",
       "      <td>[-0.6575592, 0.6522429, 0.5426037, -0.54347897...</td>\n",
       "      <td>[Конструктивные особенности_Магнитная конструк...</td>\n",
       "      <td>Кабели и переходники</td>\n",
       "      <td>Кабель</td>\n",
       "      <td>Магнитный кабель USB (m) - USB  (m)  Baseus Zi...</td>\n",
       "      <td>[2.0 А, 2 м]</td>\n",
       "      <td>[Type-C, CATXC-B09]</td>\n",
       "      <td>[]</td>\n",
       "      <td>[USB, USB]</td>\n",
       "      <td>[]</td>\n",
       "      <td>[магнитный, кабель, usb, 20, usb, typec, 2м, b...</td>\n",
       "      <td>магнитный кабель usb usb typec baseus zinc mag...</td>\n",
       "      <td>[магнитный, кабель, usb, usb, typec, baseus, z...</td>\n",
       "    </tr>\n",
       "  </tbody>\n",
       "</table>\n",
       "</div>"
      ],
      "text/plain": [
       "   variantid                                               name color_parsed   \n",
       "0   51195767  Удлинитель Партнер-Электро ПВС 2х0,75 ГОСТ,6A,...  [оранжевый]  \\\n",
       "1   53565809  Магнитный кабель USB 2.0 A (m) - USB Type-C (m...    [красный]   \n",
       "\n",
       "                            pic_embeddings_resnet_v1   \n",
       "0                                               None  \\\n",
       "1  [[0.26863545, -0.3130674, 0.29023397, 0.073978...   \n",
       "\n",
       "                       main_pic_embeddings_resnet_v1   \n",
       "0  [[0.04603629, 0.18839523, -0.09973055, -0.6636...  \\\n",
       "1  [[1.1471839, -0.665361, 0.7745614, 0.26716197,...   \n",
       "\n",
       "                                        name_bert_64   \n",
       "0  [-0.47045058, 0.67237014, 0.48984158, -0.54485...  \\\n",
       "1  [-0.6575592, 0.6522429, 0.5426037, -0.54347897...   \n",
       "\n",
       "                   characteristic_attributes_mapping   \n",
       "0  [Номинальный ток, А_10, Цвет товара_оранжевый,...  \\\n",
       "1  [Конструктивные особенности_Магнитная конструк...   \n",
       "\n",
       "                                        cat_3   \n",
       "0  Сетевые фильтры, разветвители и удлинители  \\\n",
       "1                        Кабели и переходники   \n",
       "\n",
       "                                      cat_4   \n",
       "0  Сетевой фильтр, удлинитель, разветвитель  \\\n",
       "1                                    Кабель   \n",
       "\n",
       "                                   name_preprocessed name_dimensions   \n",
       "0  Удлинитель Партнер-Электро ПВС 2х0 75 ГОСТ 6А3...              []  \\\n",
       "1  Магнитный кабель USB (m) - USB  (m)  Baseus Zi...    [2.0 А, 2 м]   \n",
       "\n",
       "             name_code name_rus_abbreviations name_eng_abbreviations   \n",
       "0                   []            [ПВС, ГОСТ]                   [IP]  \\\n",
       "1  [Type-C, CATXC-B09]                     []             [USB, USB]   \n",
       "\n",
       "    name_model                                             tokens   \n",
       "0  [2х0, 6А30]  [удлинитель, партнерэлектро, пвс, 2х075, гост6...  \\\n",
       "1           []  [магнитный, кабель, usb, 20, usb, typec, 2м, b...   \n",
       "\n",
       "                              name_full_preprocessed   \n",
       "0        удлинитель партнерэлектро пвс гост метровip  \\\n",
       "1  магнитный кабель usb usb typec baseus zinc mag...   \n",
       "\n",
       "                                         name_tokens  \n",
       "0  [удлинитель, партнерэлектро, пвс, гост, метровip]  \n",
       "1  [магнитный, кабель, usb, usb, typec, baseus, z...  "
      ]
     },
     "execution_count": 9,
     "metadata": {},
     "output_type": "execute_result"
    }
   ],
   "source": [
    "etl.head(2)"
   ]
  },
  {
   "cell_type": "code",
   "execution_count": null,
   "metadata": {},
   "outputs": [],
   "source": [
    "from utils.cat_features import cat_features\n",
    "etl = cat_features(etl)"
   ]
  },
  {
   "cell_type": "code",
   "execution_count": null,
   "metadata": {},
   "outputs": [
    {
     "name": "stderr",
     "output_type": "stream",
     "text": [
      "35730it [00:04, 7646.29it/s]\n"
     ]
    }
   ],
   "source": [
    "test_dataset = cat_features(test_dataset)"
   ]
  },
  {
   "cell_type": "code",
   "execution_count": 11,
   "metadata": {},
   "outputs": [
    {
     "data": {
      "text/html": [
       "<div>\n",
       "<style scoped>\n",
       "    .dataframe tbody tr th:only-of-type {\n",
       "        vertical-align: middle;\n",
       "    }\n",
       "\n",
       "    .dataframe tbody tr th {\n",
       "        vertical-align: top;\n",
       "    }\n",
       "\n",
       "    .dataframe thead th {\n",
       "        text-align: right;\n",
       "    }\n",
       "</style>\n",
       "<table border=\"1\" class=\"dataframe\">\n",
       "  <thead>\n",
       "    <tr style=\"text-align: right;\">\n",
       "      <th></th>\n",
       "      <th>variantid</th>\n",
       "      <th>name</th>\n",
       "      <th>color_parsed</th>\n",
       "      <th>pic_embeddings_resnet_v1</th>\n",
       "      <th>main_pic_embeddings_resnet_v1</th>\n",
       "      <th>name_bert_64</th>\n",
       "      <th>characteristic_attributes_mapping</th>\n",
       "      <th>cat_3</th>\n",
       "      <th>cat_4</th>\n",
       "      <th>name_preprocessed</th>\n",
       "      <th>name_dimensions</th>\n",
       "      <th>name_code</th>\n",
       "      <th>name_rus_abbreviations</th>\n",
       "      <th>name_eng_abbreviations</th>\n",
       "      <th>name_model</th>\n",
       "      <th>tokens</th>\n",
       "      <th>name_full_preprocessed</th>\n",
       "      <th>name_tokens</th>\n",
       "    </tr>\n",
       "  </thead>\n",
       "  <tbody>\n",
       "    <tr>\n",
       "      <th>0</th>\n",
       "      <td>51195767</td>\n",
       "      <td>Удлинитель Партнер-Электро ПВС 2х0,75 ГОСТ,6A,...</td>\n",
       "      <td>[оранжевый]</td>\n",
       "      <td>None</td>\n",
       "      <td>[[0.04603629, 0.18839523, -0.09973055, -0.6636...</td>\n",
       "      <td>[-0.47045058, 0.67237014, 0.48984158, -0.54485...</td>\n",
       "      <td>[Номинальный ток, А_10, Цвет товара_оранжевый,...</td>\n",
       "      <td>Сетевые фильтры, разветвители и удлинители</td>\n",
       "      <td>Сетевой фильтр, удлинитель, разветвитель</td>\n",
       "      <td>Удлинитель Партнер-Электро ПВС 2х0 75 ГОСТ 6А3...</td>\n",
       "      <td>[]</td>\n",
       "      <td>[]</td>\n",
       "      <td>[ПВС, ГОСТ]</td>\n",
       "      <td>[IP]</td>\n",
       "      <td>[2х0, 6А30]</td>\n",
       "      <td>[удлинитель, партнерэлектро, пвс, 2х075, гост6...</td>\n",
       "      <td>удлинитель партнерэлектро пвс гост метровip</td>\n",
       "      <td>[удлинитель, партнерэлектро, пвс, гост, метровip]</td>\n",
       "    </tr>\n",
       "    <tr>\n",
       "      <th>1</th>\n",
       "      <td>53565809</td>\n",
       "      <td>Магнитный кабель USB 2.0 A (m) - USB Type-C (m...</td>\n",
       "      <td>[красный]</td>\n",
       "      <td>[[0.26863545, -0.3130674, 0.29023397, 0.073978...</td>\n",
       "      <td>[[1.1471839, -0.665361, 0.7745614, 0.26716197,...</td>\n",
       "      <td>[-0.6575592, 0.6522429, 0.5426037, -0.54347897...</td>\n",
       "      <td>[Конструктивные особенности_Магнитная конструк...</td>\n",
       "      <td>Кабели и переходники</td>\n",
       "      <td>Кабель</td>\n",
       "      <td>Магнитный кабель USB (m) - USB  (m)  Baseus Zi...</td>\n",
       "      <td>[2.0 А, 2 м]</td>\n",
       "      <td>[Type-C, CATXC-B09]</td>\n",
       "      <td>[]</td>\n",
       "      <td>[USB, USB]</td>\n",
       "      <td>[]</td>\n",
       "      <td>[магнитный, кабель, usb, 20, usb, typec, 2м, b...</td>\n",
       "      <td>магнитный кабель usb usb typec baseus zinc mag...</td>\n",
       "      <td>[магнитный, кабель, usb, usb, typec, baseus, z...</td>\n",
       "    </tr>\n",
       "  </tbody>\n",
       "</table>\n",
       "</div>"
      ],
      "text/plain": [
       "   variantid                                               name color_parsed   \n",
       "0   51195767  Удлинитель Партнер-Электро ПВС 2х0,75 ГОСТ,6A,...  [оранжевый]  \\\n",
       "1   53565809  Магнитный кабель USB 2.0 A (m) - USB Type-C (m...    [красный]   \n",
       "\n",
       "                            pic_embeddings_resnet_v1   \n",
       "0                                               None  \\\n",
       "1  [[0.26863545, -0.3130674, 0.29023397, 0.073978...   \n",
       "\n",
       "                       main_pic_embeddings_resnet_v1   \n",
       "0  [[0.04603629, 0.18839523, -0.09973055, -0.6636...  \\\n",
       "1  [[1.1471839, -0.665361, 0.7745614, 0.26716197,...   \n",
       "\n",
       "                                        name_bert_64   \n",
       "0  [-0.47045058, 0.67237014, 0.48984158, -0.54485...  \\\n",
       "1  [-0.6575592, 0.6522429, 0.5426037, -0.54347897...   \n",
       "\n",
       "                   characteristic_attributes_mapping   \n",
       "0  [Номинальный ток, А_10, Цвет товара_оранжевый,...  \\\n",
       "1  [Конструктивные особенности_Магнитная конструк...   \n",
       "\n",
       "                                        cat_3   \n",
       "0  Сетевые фильтры, разветвители и удлинители  \\\n",
       "1                        Кабели и переходники   \n",
       "\n",
       "                                      cat_4   \n",
       "0  Сетевой фильтр, удлинитель, разветвитель  \\\n",
       "1                                    Кабель   \n",
       "\n",
       "                                   name_preprocessed name_dimensions   \n",
       "0  Удлинитель Партнер-Электро ПВС 2х0 75 ГОСТ 6А3...              []  \\\n",
       "1  Магнитный кабель USB (m) - USB  (m)  Baseus Zi...    [2.0 А, 2 м]   \n",
       "\n",
       "             name_code name_rus_abbreviations name_eng_abbreviations   \n",
       "0                   []            [ПВС, ГОСТ]                   [IP]  \\\n",
       "1  [Type-C, CATXC-B09]                     []             [USB, USB]   \n",
       "\n",
       "    name_model                                             tokens   \n",
       "0  [2х0, 6А30]  [удлинитель, партнерэлектро, пвс, 2х075, гост6...  \\\n",
       "1           []  [магнитный, кабель, usb, 20, usb, typec, 2м, b...   \n",
       "\n",
       "                              name_full_preprocessed   \n",
       "0        удлинитель партнерэлектро пвс гост метровip  \\\n",
       "1  магнитный кабель usb usb typec baseus zinc mag...   \n",
       "\n",
       "                                         name_tokens  \n",
       "0  [удлинитель, партнерэлектро, пвс, гост, метровip]  \n",
       "1  [магнитный, кабель, usb, usb, typec, baseus, z...  "
      ]
     },
     "execution_count": 11,
     "metadata": {},
     "output_type": "execute_result"
    }
   ],
   "source": [
    "etl.head(2)"
   ]
  },
  {
   "attachments": {},
   "cell_type": "markdown",
   "metadata": {},
   "source": [
    "Get raw data for each variantid."
   ]
  },
  {
   "cell_type": "code",
   "execution_count": 12,
   "metadata": {
    "ExecuteTime": {
     "end_time": "2023-05-19T06:13:06.702876Z",
     "start_time": "2023-05-19T06:13:03.688111Z"
    }
   },
   "outputs": [],
   "source": [
    "features = (\n",
    "    dataset\n",
    "    .merge(\n",
    "        etl\n",
    "        .add_suffix('1'),\n",
    "        on=\"variantid1\"\n",
    "    )\n",
    "    .merge(\n",
    "        etl\n",
    "        .add_suffix('2'),\n",
    "        on=\"variantid2\"\n",
    "    )\n",
    ")"
   ]
  },
  {
   "attachments": {},
   "cell_type": "markdown",
   "metadata": {},
   "source": [
    "### Create Features"
   ]
  },
  {
   "cell_type": "code",
   "execution_count": 13,
   "metadata": {},
   "outputs": [],
   "source": [
    "from utils.text_features import jaccard_similarity"
   ]
  },
  {
   "cell_type": "code",
   "execution_count": 14,
   "metadata": {},
   "outputs": [
    {
     "data": {
      "text/html": [
       "<div>\n",
       "<style scoped>\n",
       "    .dataframe tbody tr th:only-of-type {\n",
       "        vertical-align: middle;\n",
       "    }\n",
       "\n",
       "    .dataframe tbody tr th {\n",
       "        vertical-align: top;\n",
       "    }\n",
       "\n",
       "    .dataframe thead th {\n",
       "        text-align: right;\n",
       "    }\n",
       "</style>\n",
       "<table border=\"1\" class=\"dataframe\">\n",
       "  <thead>\n",
       "    <tr style=\"text-align: right;\">\n",
       "      <th></th>\n",
       "      <th>variantid1</th>\n",
       "      <th>variantid2</th>\n",
       "      <th>target</th>\n",
       "      <th>name1</th>\n",
       "      <th>color_parsed1</th>\n",
       "      <th>pic_embeddings_resnet_v11</th>\n",
       "      <th>main_pic_embeddings_resnet_v11</th>\n",
       "      <th>name_bert_641</th>\n",
       "      <th>characteristic_attributes_mapping1</th>\n",
       "      <th>cat_31</th>\n",
       "      <th>...</th>\n",
       "      <th>cat_42</th>\n",
       "      <th>name_preprocessed2</th>\n",
       "      <th>name_dimensions2</th>\n",
       "      <th>name_code2</th>\n",
       "      <th>name_rus_abbreviations2</th>\n",
       "      <th>name_eng_abbreviations2</th>\n",
       "      <th>name_model2</th>\n",
       "      <th>tokens2</th>\n",
       "      <th>name_full_preprocessed2</th>\n",
       "      <th>name_tokens2</th>\n",
       "    </tr>\n",
       "  </thead>\n",
       "  <tbody>\n",
       "    <tr>\n",
       "      <th>0</th>\n",
       "      <td>587809782</td>\n",
       "      <td>615149925</td>\n",
       "      <td>1.0</td>\n",
       "      <td>Картридж лазерный Комус 729 (4370B002) чер. дл...</td>\n",
       "      <td>[черный]</td>\n",
       "      <td>None</td>\n",
       "      <td>[[-0.041107245, 0.48485547, -0.2837791, 0.4637...</td>\n",
       "      <td>[-0.5087511, 0.46164495, 0.42914906, -0.462508...</td>\n",
       "      <td>[Тип_Картридж, Бренд_Нет бренда]</td>\n",
       "      <td>Расходник для печати</td>\n",
       "      <td>...</td>\n",
       "      <td>Картридж</td>\n",
       "      <td>Картридж лазерный Комус 729 (4368B002) пур. дл...</td>\n",
       "      <td>[]</td>\n",
       "      <td>[]</td>\n",
       "      <td>[]</td>\n",
       "      <td>[]</td>\n",
       "      <td>[4368B002, CanonLBP7010C]</td>\n",
       "      <td>[картридж, лазерный, комус, 729, 4368b002, пур...</td>\n",
       "      <td>картридж лазерный комус пур</td>\n",
       "      <td>[картридж, лазерный, комус, пур]</td>\n",
       "    </tr>\n",
       "    <tr>\n",
       "      <th>1</th>\n",
       "      <td>53602615</td>\n",
       "      <td>615149925</td>\n",
       "      <td>1.0</td>\n",
       "      <td>Картридж лазерный Комус 729 (4368B002) пурпурн...</td>\n",
       "      <td>[пурпурный]</td>\n",
       "      <td>None</td>\n",
       "      <td>[[0.027616128, 0.33428708, -0.37326592, 0.4108...</td>\n",
       "      <td>[-0.61162275, 0.4953002, 0.47400212, -0.429568...</td>\n",
       "      <td>[Назначение_для лазерного принтера, Совместимы...</td>\n",
       "      <td>Расходник для печати</td>\n",
       "      <td>...</td>\n",
       "      <td>Картридж</td>\n",
       "      <td>Картридж лазерный Комус 729 (4368B002) пур. дл...</td>\n",
       "      <td>[]</td>\n",
       "      <td>[]</td>\n",
       "      <td>[]</td>\n",
       "      <td>[]</td>\n",
       "      <td>[4368B002, CanonLBP7010C]</td>\n",
       "      <td>[картридж, лазерный, комус, 729, 4368b002, пур...</td>\n",
       "      <td>картридж лазерный комус пур</td>\n",
       "      <td>[картридж, лазерный, комус, пур]</td>\n",
       "    </tr>\n",
       "  </tbody>\n",
       "</table>\n",
       "<p>2 rows × 37 columns</p>\n",
       "</div>"
      ],
      "text/plain": [
       "   variantid1  variantid2  target   \n",
       "0   587809782   615149925     1.0  \\\n",
       "1    53602615   615149925     1.0   \n",
       "\n",
       "                                               name1 color_parsed1   \n",
       "0  Картридж лазерный Комус 729 (4370B002) чер. дл...      [черный]  \\\n",
       "1  Картридж лазерный Комус 729 (4368B002) пурпурн...   [пурпурный]   \n",
       "\n",
       "  pic_embeddings_resnet_v11   \n",
       "0                      None  \\\n",
       "1                      None   \n",
       "\n",
       "                      main_pic_embeddings_resnet_v11   \n",
       "0  [[-0.041107245, 0.48485547, -0.2837791, 0.4637...  \\\n",
       "1  [[0.027616128, 0.33428708, -0.37326592, 0.4108...   \n",
       "\n",
       "                                       name_bert_641   \n",
       "0  [-0.5087511, 0.46164495, 0.42914906, -0.462508...  \\\n",
       "1  [-0.61162275, 0.4953002, 0.47400212, -0.429568...   \n",
       "\n",
       "                  characteristic_attributes_mapping1                cat_31   \n",
       "0                   [Тип_Картридж, Бренд_Нет бренда]  Расходник для печати  \\\n",
       "1  [Назначение_для лазерного принтера, Совместимы...  Расходник для печати   \n",
       "\n",
       "   ...    cat_42                                 name_preprocessed2   \n",
       "0  ...  Картридж  Картридж лазерный Комус 729 (4368B002) пур. дл...  \\\n",
       "1  ...  Картридж  Картридж лазерный Комус 729 (4368B002) пур. дл...   \n",
       "\n",
       "  name_dimensions2 name_code2 name_rus_abbreviations2 name_eng_abbreviations2   \n",
       "0               []         []                      []                      []  \\\n",
       "1               []         []                      []                      []   \n",
       "\n",
       "                 name_model2   \n",
       "0  [4368B002, CanonLBP7010C]  \\\n",
       "1  [4368B002, CanonLBP7010C]   \n",
       "\n",
       "                                             tokens2   \n",
       "0  [картридж, лазерный, комус, 729, 4368b002, пур...  \\\n",
       "1  [картридж, лазерный, комус, 729, 4368b002, пур...   \n",
       "\n",
       "       name_full_preprocessed2                      name_tokens2  \n",
       "0  картридж лазерный комус пур  [картридж, лазерный, комус, пур]  \n",
       "1  картридж лазерный комус пур  [картридж, лазерный, комус, пур]  \n",
       "\n",
       "[2 rows x 37 columns]"
      ]
     },
     "execution_count": 14,
     "metadata": {},
     "output_type": "execute_result"
    }
   ],
   "source": [
    "features.head(2)"
   ]
  },
  {
   "cell_type": "code",
   "execution_count": 15,
   "metadata": {},
   "outputs": [],
   "source": [
    "# color features\n",
    "features['color_similarity'] = features.apply(lambda row: jaccard_similarity(row['color_parsed1'], row['color_parsed2']), axis=1)"
   ]
  },
  {
   "cell_type": "code",
   "execution_count": 16,
   "metadata": {},
   "outputs": [],
   "source": [
    "features['name_tokens_jaccard'] = features.apply(lambda row: jaccard_similarity(row['name_tokens1'], row['name_tokens2']), axis=1)\n",
    "features['name_dimensions_similarity'] = features.apply(lambda row: jaccard_similarity(row['name_dimensions1'], row['name_dimensions2']), axis=1)\n",
    "features['name_code_similarity'] = features.apply(lambda row: jaccard_similarity(row['name_code1'], row['name_code2']), axis=1)\n",
    "\n",
    "features['name_rus_abbreviations_similarity'] = features.apply(lambda row: jaccard_similarity(row['name_rus_abbreviations1'], \n",
    "                                                                                              row['name_rus_abbreviations2']), axis=1)\n",
    "\n",
    "features['name_eng_abbreviations_similarity'] = features.apply(lambda row: jaccard_similarity(row['name_eng_abbreviations1'], \n",
    "                                                                                              row['name_eng_abbreviations2']), axis=1)\n",
    "\n",
    "features['name_model_similarity'] = features.apply(lambda row: jaccard_similarity(row['name_model1'], row['name_model2']), axis=1)\n",
    "features['lemmas_similarity'] = features.apply(lambda row: jaccard_similarity(row['tokens1'], row['tokens2']), axis=1)"
   ]
  },
  {
   "cell_type": "code",
   "execution_count": 17,
   "metadata": {},
   "outputs": [],
   "source": [
    "from utils.image_features import get_pic_features\n",
    "get_pic_features_func = partial(\n",
    "    get_pic_features,\n",
    "    percentiles=[25, 50, 75]\n",
    ")"
   ]
  },
  {
   "cell_type": "code",
   "execution_count": 34,
   "metadata": {
    "ExecuteTime": {
     "end_time": "2023-05-19T06:17:05.936723Z",
     "start_time": "2023-05-19T06:14:27.944747Z"
    }
   },
   "outputs": [],
   "source": [
    "features[[\"pic_dist_25_perc\", \"pic_dist_50_perc\", \"pic_dist_75_perc\"]] = (\n",
    "    features[[\"pic_embeddings_resnet_v11\", \"pic_embeddings_resnet_v12\"]].apply(\n",
    "        lambda x: pd.Series(get_pic_features_func(*x, \"euclidean\")), axis=1\n",
    "    )\n",
    ")\n",
    "\n",
    "features[[\"main_pic_dist_25_perc\", \"main_pic_dist_50_perc\", \"main_pic_dist_75_perc\"]] = (\n",
    "    features[[\"main_pic_embeddings_resnet_v11\", \"main_pic_embeddings_resnet_v12\"]].apply(\n",
    "        lambda x: pd.Series(get_pic_features_func(*x, \"euclidean\")), axis=1\n",
    "    )\n",
    ")"
   ]
  },
  {
   "cell_type": "code",
   "execution_count": 35,
   "metadata": {},
   "outputs": [],
   "source": [
    "features[[\"cos_pic_dist_25_perc\", \"cos_pic_dist_50_perc\", \"cos_pic_dist_75_perc\"]] = (\n",
    "    features[[\"pic_embeddings_resnet_v11\", \"pic_embeddings_resnet_v12\"]].apply(\n",
    "        lambda x: pd.Series(get_pic_features_func(*x, \"cosine\")), axis=1\n",
    "    )\n",
    ")\n",
    "\n",
    "features[[\"main_cos_pic_dist_25_perc\", \"main_cos_pic_dist_50_perc\", \"main_cos_pic_dist_75_perc\"]] = (\n",
    "    features[[\"main_pic_embeddings_resnet_v11\", \"main_pic_embeddings_resnet_v12\"]].apply(\n",
    "        lambda x: pd.Series(get_pic_features_func(*x, \"cosine\")), axis=1\n",
    "    )\n",
    ")"
   ]
  },
  {
   "cell_type": "code",
   "execution_count": 26,
   "metadata": {},
   "outputs": [],
   "source": [
    "from utils.image_features import get_pic_features_mean\n",
    "features[\"mean_pic\"] = (\n",
    "    features[[\"pic_embeddings_resnet_v11\", \"pic_embeddings_resnet_v12\"]].apply(\n",
    "        lambda x: pd.Series(get_pic_features_mean(*x)), axis=1\n",
    "    )\n",
    ")\n",
    "features[\"cos_mean_pic\"] = (\n",
    "    features[[\"pic_embeddings_resnet_v11\", \"pic_embeddings_resnet_v12\"]].apply(\n",
    "        lambda x: pd.Series(get_pic_features_mean(*x, \"cosine\")), axis=1\n",
    "    )\n",
    ")\n",
    "\n",
    "features[\"main_mean_pic\"] = (\n",
    "    features[[\"main_pic_embeddings_resnet_v11\", \"main_pic_embeddings_resnet_v12\"]].apply(\n",
    "        lambda x: pd.Series(get_pic_features_mean(*x)), axis=1\n",
    "    )\n",
    ")\n",
    "features[\"main_cos_mean_pic\"] = (\n",
    "    features[[\"main_pic_embeddings_resnet_v11\", \"main_pic_embeddings_resnet_v12\"]].apply(\n",
    "        lambda x: pd.Series(get_pic_features_mean(*x, \"cosine\")), axis=1\n",
    "    )\n",
    ")"
   ]
  },
  {
   "cell_type": "code",
   "execution_count": 20,
   "metadata": {
    "ExecuteTime": {
     "end_time": "2023-05-19T06:18:48.810761Z",
     "start_time": "2023-05-19T06:17:26.418017Z"
    }
   },
   "outputs": [],
   "source": [
    "from utils.text_features import text_dense_distances\n",
    "features[[\"euclidean_name_bert_dist\", \"cosine_name_bert_dist\"]] = (\n",
    "    features[[\"name_bert_641\", \"name_bert_642\"]].apply(\n",
    "        lambda x: pd.Series(text_dense_distances(*x)), axis=1\n",
    "    )\n",
    ")\n"
   ]
  },
  {
   "cell_type": "code",
   "execution_count": 21,
   "metadata": {
    "ExecuteTime": {
     "end_time": "2023-05-19T06:28:28.028773Z",
     "start_time": "2023-05-19T06:28:27.086139Z"
    }
   },
   "outputs": [],
   "source": [
    "from utils.training import create_3cat_grouped\n",
    "features = create_3cat_grouped(features)"
   ]
  },
  {
   "attachments": {},
   "cell_type": "markdown",
   "metadata": {},
   "source": [
    "Choose features"
   ]
  },
  {
   "cell_type": "code",
   "execution_count": 86,
   "metadata": {},
   "outputs": [
    {
     "data": {
      "text/plain": [
       "Index(['variantid1', 'variantid2', 'target', 'name1', 'color_parsed1',\n",
       "       'pic_embeddings_resnet_v11', 'main_pic_embeddings_resnet_v11',\n",
       "       'name_bert_641', 'characteristic_attributes_mapping1', 'cat_31',\n",
       "       'cat_41', 'name_preprocessed1', 'name_dimensions1', 'name_code1',\n",
       "       'name_rus_abbreviations1', 'name_eng_abbreviations1', 'name_model1',\n",
       "       'tokens1', 'name_full_preprocessed1', 'name_tokens1', 'name2',\n",
       "       'color_parsed2', 'pic_embeddings_resnet_v12',\n",
       "       'main_pic_embeddings_resnet_v12', 'name_bert_642',\n",
       "       'characteristic_attributes_mapping2', 'cat_32', 'cat_42',\n",
       "       'name_preprocessed2', 'name_dimensions2', 'name_code2',\n",
       "       'name_rus_abbreviations2', 'name_eng_abbreviations2', 'name_model2',\n",
       "       'tokens2', 'name_full_preprocessed2', 'name_tokens2',\n",
       "       'color_similarity', 'name_tokens_jaccard', 'name_dimensions_similarity',\n",
       "       'name_code_similarity', 'name_rus_abbreviations_similarity',\n",
       "       'name_eng_abbreviations_similarity', 'name_model_similarity',\n",
       "       'lemmas_similarity', 'pic_dist_25_perc', 'pic_dist_50_perc',\n",
       "       'pic_dist_75_perc', 'cos_pic_dist_25_perc', 'cos_pic_dist_50_perc',\n",
       "       'cos_pic_dist_75_perc', 'euclidean_name_bert_dist',\n",
       "       'cosine_name_bert_dist', 'cat3_grouped', 'mean_pic', 'cos_mean_pic',\n",
       "       'main_mean_pic', 'main_cos_mean_pic', 'main_pic_dist_25_perc',\n",
       "       'main_pic_dist_50_perc', 'main_pic_dist_75_perc',\n",
       "       'main_cos_pic_dist_25_perc', 'main_cos_pic_dist_50_perc',\n",
       "       'main_cos_pic_dist_75_perc', 'cat3', 'cat4'],\n",
       "      dtype='object')"
      ]
     },
     "execution_count": 86,
     "metadata": {},
     "output_type": "execute_result"
    }
   ],
   "source": [
    "features.columns"
   ]
  },
  {
   "cell_type": "code",
   "execution_count": 37,
   "metadata": {},
   "outputs": [
    {
     "data": {
      "text/html": [
       "<div>\n",
       "<style scoped>\n",
       "    .dataframe tbody tr th:only-of-type {\n",
       "        vertical-align: middle;\n",
       "    }\n",
       "\n",
       "    .dataframe tbody tr th {\n",
       "        vertical-align: top;\n",
       "    }\n",
       "\n",
       "    .dataframe thead th {\n",
       "        text-align: right;\n",
       "    }\n",
       "</style>\n",
       "<table border=\"1\" class=\"dataframe\">\n",
       "  <thead>\n",
       "    <tr style=\"text-align: right;\">\n",
       "      <th></th>\n",
       "      <th>variantid1</th>\n",
       "      <th>variantid2</th>\n",
       "      <th>target</th>\n",
       "      <th>name1</th>\n",
       "      <th>color_parsed1</th>\n",
       "      <th>pic_embeddings_resnet_v11</th>\n",
       "      <th>main_pic_embeddings_resnet_v11</th>\n",
       "      <th>name_bert_641</th>\n",
       "      <th>characteristic_attributes_mapping1</th>\n",
       "      <th>cat_31</th>\n",
       "      <th>...</th>\n",
       "      <th>mean_pic</th>\n",
       "      <th>cos_mean_pic</th>\n",
       "      <th>main_mean_pic</th>\n",
       "      <th>main_cos_mean_pic</th>\n",
       "      <th>main_pic_dist_25_perc</th>\n",
       "      <th>main_pic_dist_50_perc</th>\n",
       "      <th>main_pic_dist_75_perc</th>\n",
       "      <th>main_cos_pic_dist_25_perc</th>\n",
       "      <th>main_cos_pic_dist_50_perc</th>\n",
       "      <th>main_cos_pic_dist_75_perc</th>\n",
       "    </tr>\n",
       "  </thead>\n",
       "  <tbody>\n",
       "    <tr>\n",
       "      <th>0</th>\n",
       "      <td>587809782</td>\n",
       "      <td>615149925</td>\n",
       "      <td>1.0</td>\n",
       "      <td>Картридж лазерный Комус 729 (4370B002) чер. дл...</td>\n",
       "      <td>[черный]</td>\n",
       "      <td>None</td>\n",
       "      <td>[[-0.041107245, 0.48485547, -0.2837791, 0.4637...</td>\n",
       "      <td>[-0.5087511, 0.46164495, 0.42914906, -0.462508...</td>\n",
       "      <td>[Тип_Картридж, Бренд_Нет бренда]</td>\n",
       "      <td>Расходник для печати</td>\n",
       "      <td>...</td>\n",
       "      <td>-1.0</td>\n",
       "      <td>-1.0</td>\n",
       "      <td>0.230155</td>\n",
       "      <td>0.000664</td>\n",
       "      <td>0.230155</td>\n",
       "      <td>0.230155</td>\n",
       "      <td>0.230155</td>\n",
       "      <td>0.000664</td>\n",
       "      <td>0.000664</td>\n",
       "      <td>0.000664</td>\n",
       "    </tr>\n",
       "    <tr>\n",
       "      <th>1</th>\n",
       "      <td>53602615</td>\n",
       "      <td>615149925</td>\n",
       "      <td>1.0</td>\n",
       "      <td>Картридж лазерный Комус 729 (4368B002) пурпурн...</td>\n",
       "      <td>[пурпурный]</td>\n",
       "      <td>None</td>\n",
       "      <td>[[0.027616128, 0.33428708, -0.37326592, 0.4108...</td>\n",
       "      <td>[-0.61162275, 0.4953002, 0.47400212, -0.429568...</td>\n",
       "      <td>[Назначение_для лазерного принтера, Совместимы...</td>\n",
       "      <td>Расходник для печати</td>\n",
       "      <td>...</td>\n",
       "      <td>-1.0</td>\n",
       "      <td>-1.0</td>\n",
       "      <td>0.985881</td>\n",
       "      <td>0.010815</td>\n",
       "      <td>0.985881</td>\n",
       "      <td>0.985881</td>\n",
       "      <td>0.985881</td>\n",
       "      <td>0.010815</td>\n",
       "      <td>0.010815</td>\n",
       "      <td>0.010815</td>\n",
       "    </tr>\n",
       "  </tbody>\n",
       "</table>\n",
       "<p>2 rows × 64 columns</p>\n",
       "</div>"
      ],
      "text/plain": [
       "   variantid1  variantid2  target   \n",
       "0   587809782   615149925     1.0  \\\n",
       "1    53602615   615149925     1.0   \n",
       "\n",
       "                                               name1 color_parsed1   \n",
       "0  Картридж лазерный Комус 729 (4370B002) чер. дл...      [черный]  \\\n",
       "1  Картридж лазерный Комус 729 (4368B002) пурпурн...   [пурпурный]   \n",
       "\n",
       "  pic_embeddings_resnet_v11   \n",
       "0                      None  \\\n",
       "1                      None   \n",
       "\n",
       "                      main_pic_embeddings_resnet_v11   \n",
       "0  [[-0.041107245, 0.48485547, -0.2837791, 0.4637...  \\\n",
       "1  [[0.027616128, 0.33428708, -0.37326592, 0.4108...   \n",
       "\n",
       "                                       name_bert_641   \n",
       "0  [-0.5087511, 0.46164495, 0.42914906, -0.462508...  \\\n",
       "1  [-0.61162275, 0.4953002, 0.47400212, -0.429568...   \n",
       "\n",
       "                  characteristic_attributes_mapping1                cat_31   \n",
       "0                   [Тип_Картридж, Бренд_Нет бренда]  Расходник для печати  \\\n",
       "1  [Назначение_для лазерного принтера, Совместимы...  Расходник для печати   \n",
       "\n",
       "   ... mean_pic cos_mean_pic main_mean_pic main_cos_mean_pic   \n",
       "0  ...     -1.0         -1.0      0.230155          0.000664  \\\n",
       "1  ...     -1.0         -1.0      0.985881          0.010815   \n",
       "\n",
       "  main_pic_dist_25_perc main_pic_dist_50_perc main_pic_dist_75_perc   \n",
       "0              0.230155              0.230155              0.230155  \\\n",
       "1              0.985881              0.985881              0.985881   \n",
       "\n",
       "  main_cos_pic_dist_25_perc main_cos_pic_dist_50_perc   \n",
       "0                  0.000664                  0.000664  \\\n",
       "1                  0.010815                  0.010815   \n",
       "\n",
       "  main_cos_pic_dist_75_perc  \n",
       "0                  0.000664  \n",
       "1                  0.010815  \n",
       "\n",
       "[2 rows x 64 columns]"
      ]
     },
     "execution_count": 37,
     "metadata": {},
     "output_type": "execute_result"
    }
   ],
   "source": [
    "features.head(2)"
   ]
  },
  {
   "cell_type": "code",
   "execution_count": 96,
   "metadata": {
    "ExecuteTime": {
     "end_time": "2023-05-19T06:28:45.696151Z",
     "start_time": "2023-05-19T06:28:45.692484Z"
    }
   },
   "outputs": [],
   "source": [
    "feats = [\n",
    "       'color_similarity', 'name_tokens_jaccard', 'name_dimensions_similarity',\n",
    "       'name_code_similarity', 'name_rus_abbreviations_similarity',\n",
    "       'name_eng_abbreviations_similarity', 'name_model_similarity',\n",
    "       'lemmas_similarity', 'pic_dist_50_perc',\n",
    "        'cos_pic_dist_50_perc',\n",
    "       'euclidean_name_bert_dist',\n",
    "       'cosine_name_bert_dist', 'mean_pic', 'cos_mean_pic',\n",
    "       'main_mean_pic', 'main_cos_mean_pic', \n",
    "       'main_pic_dist_50_perc',\n",
    "        'main_cos_pic_dist_50_perc'\n",
    "       ]"
   ]
  },
  {
   "attachments": {},
   "cell_type": "markdown",
   "metadata": {},
   "source": [
    "Split dataset"
   ]
  },
  {
   "cell_type": "code",
   "execution_count": 97,
   "metadata": {
    "ExecuteTime": {
     "end_time": "2023-05-19T06:29:01.923278Z",
     "start_time": "2023-05-19T06:28:54.101554Z"
    }
   },
   "outputs": [],
   "source": [
    "X_train, X_test = train_test_split(\n",
    "    features[feats + [\"target\", \"variantid1\", \"variantid2\", \"cat3_grouped\"]], \n",
    "    test_size=0.1, random_state=42, stratify=features[[\"target\", \"cat3_grouped\"]]\n",
    ")\n",
    "\n",
    "X_train, X_val = train_test_split(\n",
    "    X_train[feats + [\"target\",  \"variantid1\", \"variantid2\", \"cat3_grouped\"]], \n",
    "    test_size=0.1, random_state=42, stratify=X_train[[\"target\", \"cat3_grouped\"]]\n",
    ")\n",
    "\n",
    "y_test = X_test[[\"target\", \"variantid1\", \"variantid2\"]]\n",
    "X_test = X_test.drop([\"target\"], axis=1)\n",
    "\n",
    "y_train = X_train[\"target\"]\n",
    "y_val = X_val[\"target\"]\n",
    "metric_y_val = X_val[[\"target\", \"variantid1\", \"variantid2\", \"cat3_grouped\"]]\n",
    "metric_y_val_pred = X_val[[\"variantid1\", \"variantid2\"]]\n",
    "X_train = X_train.drop([\"target\"], axis=1)\n",
    "X_val = X_val.drop([\"target\"], axis=1)\n",
    "\n",
    "\n",
    "train_pool = Pool(\n",
    "    data=X_train[feats],\n",
    "    label=y_train,\n",
    ")\n",
    "eval_pool = Pool(\n",
    "    data=X_val[feats],\n",
    "    label=y_val,\n",
    ")"
   ]
  },
  {
   "attachments": {},
   "cell_type": "markdown",
   "metadata": {},
   "source": [
    "### Optuna"
   ]
  },
  {
   "cell_type": "code",
   "execution_count": 98,
   "metadata": {},
   "outputs": [],
   "source": [
    "from utils.metric import pr_auc_macro\n",
    "import optuna\n",
    "from optuna.samplers import TPESampler\n",
    "def catboost_clf_objective(trial):\n",
    "\n",
    "  model = CatBoostClassifier(\n",
    "      task_type=trial.suggest_categorical('task_type', ['GPU']),\n",
    "      iterations=trial.suggest_int('iterations', 400, 1000),\n",
    "      learning_rate=trial.suggest_float('learning_rate', 0.001, 0.1, log=True),\n",
    "      depth=trial.suggest_int('depth', 2, 11),\n",
    "      border_count=trial.suggest_int(\"border_count\", 32, 255), \n",
    "      l2_leaf_reg=trial.suggest_float('l2_leaf_reg', 0.5, 5, log=True),\n",
    "      bootstrap_type=trial.suggest_categorical('bootstrap_type', ['Bayesian', 'Bernoulli']),\n",
    "      verbose=False\n",
    "  )\n",
    "\n",
    "  model.fit(X_train[feats], y_train)\n",
    "  \n",
    "  y_pred = model.predict(X_val[feats])\n",
    "  metric_y_val_pred[\"scores\"] = y_pred\n",
    "\n",
    "  return pr_auc_macro(\n",
    "    metric_y_val, \n",
    "    metric_y_val_pred\n",
    "\n",
    ")"
   ]
  },
  {
   "cell_type": "code",
   "execution_count": 99,
   "metadata": {},
   "outputs": [],
   "source": [
    "optuna.logging.set_verbosity(optuna.logging.WARNING)\n",
    "\n",
    "sampler = TPESampler(seed=1)\n",
    "study = optuna.create_study(study_name='catboost', direction='maximize', sampler=sampler)\n",
    "study.optimize(catboost_clf_objective, n_trials=30)"
   ]
  },
  {
   "cell_type": "code",
   "execution_count": 100,
   "metadata": {},
   "outputs": [
    {
     "name": "stdout",
     "output_type": "stream",
     "text": [
      "Number of finished trials:  30\n",
      "Best trial:\n",
      "Value:  0.4343203235351414\n",
      "Params: \n",
      "    task_type: GPU\n",
      "    iterations: 905\n",
      "    learning_rate: 0.07396201213608415\n",
      "    depth: 11\n",
      "    border_count: 70\n",
      "    l2_leaf_reg: 2.0429517369891417\n",
      "    bootstrap_type: Bayesian\n"
     ]
    }
   ],
   "source": [
    "print(\"Number of finished trials: \", len(study.trials))\n",
    "print(\"Best trial:\")\n",
    "trial = study.best_trial\n",
    "print(\"Value: \", trial.value)\n",
    "print(\"Params: \")\n",
    "for key, value in trial.params.items():\n",
    "  print(\"    {}: {}\".format(key, value))"
   ]
  },
  {
   "attachments": {},
   "cell_type": "markdown",
   "metadata": {},
   "source": [
    "Train model"
   ]
  },
  {
   "cell_type": "code",
   "execution_count": 101,
   "metadata": {
    "ExecuteTime": {
     "end_time": "2023-05-19T06:29:24.898318Z",
     "start_time": "2023-05-19T06:29:07.544816Z"
    },
    "scrolled": true
   },
   "outputs": [],
   "source": [
    "from utils.training import train\n",
    "model_params = {\"task_type\":'GPU',\n",
    "      \"iterations\": 10000,\n",
    "      \"learning_rate\":0.07,\n",
    "      \"depth\": 11,\n",
    "      \"border_count\": 70,\n",
    "      \"l2_leaf_reg\":2.04,\n",
    "      \"bootstrap_type\":'Bayesian',\n",
    "      \"verbose\": False}\n",
    "fit_params = { \"eval_set\":eval_pool,\n",
    "    \"plot\":True,\n",
    "    \"verbose\":True,\n",
    "    \"use_best_model\":True,\n",
    "    \"early_stopping_rounds\":700,\n",
    "    \"metric_period\":100}\n",
    "save_path = \"emb_model2.cbm\""
   ]
  },
  {
   "cell_type": "code",
   "execution_count": 102,
   "metadata": {},
   "outputs": [
    {
     "data": {
      "application/vnd.jupyter.widget-view+json": {
       "model_id": "421066f111fe4165bc1fea5be1399fed",
       "version_major": 2,
       "version_minor": 0
      },
      "text/plain": [
       "MetricVisualizer(layout=Layout(align_self='stretch', height='500px'))"
      ]
     },
     "metadata": {},
     "output_type": "display_data"
    },
    {
     "name": "stdout",
     "output_type": "stream",
     "text": [
      "0:\tlearn: 0.6613651\ttest: 0.6615951\tbest: 0.6615951 (0)\ttotal: 32.3ms\tremaining: 5m 22s\n",
      "100:\tlearn: 0.4296915\ttest: 0.4426024\tbest: 0.4426024 (100)\ttotal: 3.25s\tremaining: 5m 19s\n",
      "200:\tlearn: 0.4080551\ttest: 0.4313996\tbest: 0.4313996 (200)\ttotal: 6.47s\tremaining: 5m 15s\n",
      "300:\tlearn: 0.3922525\ttest: 0.4257096\tbest: 0.4257096 (300)\ttotal: 9.67s\tremaining: 5m 11s\n",
      "400:\tlearn: 0.3790904\ttest: 0.4222883\tbest: 0.4222883 (400)\ttotal: 12.9s\tremaining: 5m 8s\n",
      "500:\tlearn: 0.3678708\ttest: 0.4202074\tbest: 0.4202051 (499)\ttotal: 16.1s\tremaining: 5m 5s\n",
      "600:\tlearn: 0.3576505\ttest: 0.4190088\tbest: 0.4190088 (600)\ttotal: 19.4s\tremaining: 5m 2s\n",
      "700:\tlearn: 0.3488170\ttest: 0.4180191\tbest: 0.4180191 (700)\ttotal: 22.6s\tremaining: 4m 59s\n",
      "800:\tlearn: 0.3407113\ttest: 0.4173157\tbest: 0.4173031 (799)\ttotal: 25.8s\tremaining: 4m 56s\n",
      "900:\tlearn: 0.3327775\ttest: 0.4168958\tbest: 0.4168913 (898)\ttotal: 29s\tremaining: 4m 52s\n",
      "1000:\tlearn: 0.3257827\ttest: 0.4167384\tbest: 0.4166960 (977)\ttotal: 32.2s\tremaining: 4m 49s\n",
      "1100:\tlearn: 0.3190827\ttest: 0.4166577\tbest: 0.4166258 (1099)\ttotal: 35.5s\tremaining: 4m 46s\n",
      "1200:\tlearn: 0.3127109\ttest: 0.4167113\tbest: 0.4165287 (1116)\ttotal: 38.7s\tremaining: 4m 43s\n",
      "1300:\tlearn: 0.3067784\ttest: 0.4167477\tbest: 0.4165287 (1116)\ttotal: 41.9s\tremaining: 4m 40s\n",
      "1400:\tlearn: 0.3012398\ttest: 0.4168570\tbest: 0.4165287 (1116)\ttotal: 45.2s\tremaining: 4m 37s\n",
      "1500:\tlearn: 0.2961868\ttest: 0.4171611\tbest: 0.4165287 (1116)\ttotal: 48.4s\tremaining: 4m 33s\n",
      "1600:\tlearn: 0.2910988\ttest: 0.4175745\tbest: 0.4165287 (1116)\ttotal: 51.6s\tremaining: 4m 30s\n",
      "1700:\tlearn: 0.2866084\ttest: 0.4179896\tbest: 0.4165287 (1116)\ttotal: 54.9s\tremaining: 4m 27s\n",
      "1800:\tlearn: 0.2819072\ttest: 0.4184103\tbest: 0.4165287 (1116)\ttotal: 58.1s\tremaining: 4m 24s\n",
      "bestTest = 0.4165287419\n",
      "bestIteration = 1116\n",
      "Shrink model to first 1117 iterations.\n"
     ]
    }
   ],
   "source": [
    "model = train(model_params, train_pool,  fit_params, save_path)"
   ]
  },
  {
   "attachments": {},
   "cell_type": "markdown",
   "metadata": {},
   "source": [
    "### Metric"
   ]
  },
  {
   "cell_type": "code",
   "execution_count": 103,
   "metadata": {
    "ExecuteTime": {
     "end_time": "2023-05-19T06:30:13.294341Z",
     "start_time": "2023-05-19T06:30:13.258507Z"
    }
   },
   "outputs": [],
   "source": [
    "X_test[\"scores\"] = model.predict_proba(X_test[feats])[:, 1]"
   ]
  },
  {
   "cell_type": "code",
   "execution_count": 104,
   "metadata": {
    "ExecuteTime": {
     "end_time": "2023-05-19T06:30:28.980002Z",
     "start_time": "2023-05-19T06:30:28.331803Z"
    }
   },
   "outputs": [
    {
     "data": {
      "text/plain": [
       "0.5585511150608734"
      ]
     },
     "execution_count": 104,
     "metadata": {},
     "output_type": "execute_result"
    }
   ],
   "source": [
    "from utils.metric import *\n",
    "pr_auc_macro_metr = pr_auc_macro(\n",
    "    target_df=y_test, \n",
    "    predictions_df=X_test,\n",
    "    prec_level=0.75,\n",
    "    cat_column=\"cat3_grouped\"\n",
    ")\n",
    "\n",
    "pr_auc_macro_metr"
   ]
  },
  {
   "cell_type": "code",
   "execution_count": 105,
   "metadata": {
    "ExecuteTime": {
     "end_time": "2023-05-19T06:30:42.074029Z",
     "start_time": "2023-05-19T06:30:41.619959Z"
    }
   },
   "outputs": [
    {
     "data": {
      "image/png": "[encoded data removed]",
      "text/plain": [
       "<Figure size 1500x700 with 1 Axes>"
      ]
     },
     "metadata": {},
     "output_type": "display_data"
    }
   ],
   "source": [
    "from sklearn.metrics import precision_recall_curve, auc\n",
    "precision, recall, thrs = precision_recall_curve(y_test[\"target\"], X_test[\"scores\"])\n",
    "pr_auc = auc(recall, precision)\n",
    "\n",
    "fig, ax1 = plt.subplots(1, figsize=(15, 7))\n",
    "\n",
    "ax1.plot(recall, precision)\n",
    "ax1.axhline(y=0.75, color='grey', linestyle='-');"
   ]
  },
  {
   "cell_type": "code",
   "execution_count": 106,
   "metadata": {},
   "outputs": [
    {
     "data": {
      "text/plain": [
       "0.8981756187636613"
      ]
     },
     "execution_count": 106,
     "metadata": {},
     "output_type": "execute_result"
    }
   ],
   "source": [
    "pr_auc "
   ]
  },
  {
   "attachments": {},
   "cell_type": "markdown",
   "metadata": {},
   "source": [
    "### Submission"
   ]
  },
  {
   "attachments": {},
   "cell_type": "markdown",
   "metadata": {},
   "source": [
    "Generate the same features as for train"
   ]
  },
  {
   "cell_type": "code",
   "execution_count": 107,
   "metadata": {
    "ExecuteTime": {
     "end_time": "2023-05-19T06:31:44.061466Z",
     "start_time": "2023-05-19T06:31:44.008543Z"
    }
   },
   "outputs": [],
   "source": [
    "test_features = (\n",
    "    test_pairs\n",
    "    .merge(\n",
    "        test_dataset\n",
    "        .add_suffix('1'),\n",
    "        on=\"variantid1\"\n",
    "    )\n",
    "    .merge(\n",
    "        test_dataset\n",
    "        .add_suffix('2'),\n",
    "        on=\"variantid2\"\n",
    "    )\n",
    ")"
   ]
  },
  {
   "cell_type": "code",
   "execution_count": 108,
   "metadata": {},
   "outputs": [],
   "source": [
    "test_features['color_similarity'] = test_features.apply(lambda row: jaccard_similarity(row['color_parsed1'], row['color_parsed2']), axis=1)"
   ]
  },
  {
   "cell_type": "code",
   "execution_count": 109,
   "metadata": {},
   "outputs": [],
   "source": [
    "test_features['name_tokens_jaccard'] = test_features.apply(lambda row: jaccard_similarity(row['name_tokens1'], row['name_tokens2']), axis=1)\n",
    "test_features['name_dimensions_similarity'] = test_features.apply(lambda row: jaccard_similarity(row['name_dimensions1'], row['name_dimensions2']), axis=1)\n",
    "test_features['name_code_similarity'] = test_features.apply(lambda row: jaccard_similarity(row['name_code1'], row['name_code2']), axis=1)\n",
    "\n",
    "test_features['name_rus_abbreviations_similarity'] = test_features.apply(lambda row: jaccard_similarity(row['name_rus_abbreviations1'], \n",
    "                                                                                              row['name_rus_abbreviations2']), axis=1)\n",
    "\n",
    "test_features['name_eng_abbreviations_similarity'] = test_features.apply(lambda row: jaccard_similarity(row['name_eng_abbreviations1'], \n",
    "                                                                                              row['name_eng_abbreviations2']), axis=1)\n",
    "\n",
    "test_features['name_model_similarity'] = test_features.apply(lambda row: jaccard_similarity(row['name_model1'], row['name_model2']), axis=1)\n",
    "test_features['lemmas_similarity'] = test_features.apply(lambda row: jaccard_similarity(row['tokens1'], row['tokens2']), axis=1)"
   ]
  },
  {
   "cell_type": "code",
   "execution_count": 110,
   "metadata": {},
   "outputs": [],
   "source": [
    "test_features[[\"pic_dist_25_perc\", \"pic_dist_50_perc\", \"pic_dist_75_perc\"]] = (\n",
    "    test_features[[\"pic_embeddings_resnet_v11\", \"pic_embeddings_resnet_v12\"]].apply(\n",
    "        lambda x: pd.Series(get_pic_features_func(*x, \"euclidean\")), axis=1\n",
    "    )\n",
    ")\n",
    "\n",
    "test_features[[\"main_pic_dist_25_perc\", \"main_pic_dist_50_perc\", \"main_pic_dist_75_perc\"]] = (\n",
    "    test_features[[\"main_pic_embeddings_resnet_v11\", \"main_pic_embeddings_resnet_v12\"]].apply(\n",
    "        lambda x: pd.Series(get_pic_features_func(*x, \"euclidean\")), axis=1\n",
    "    )\n",
    ")"
   ]
  },
  {
   "cell_type": "code",
   "execution_count": 111,
   "metadata": {},
   "outputs": [],
   "source": [
    "test_features[[\"cos_pic_dist_25_perc\", \"cos_pic_dist_50_perc\", \"cos_pic_dist_75_perc\"]] = (\n",
    "    test_features[[\"pic_embeddings_resnet_v11\", \"pic_embeddings_resnet_v12\"]].apply(\n",
    "        lambda x: pd.Series(get_pic_features_func(*x, \"cosine\")), axis=1\n",
    "    )\n",
    ")\n",
    "test_features[[\"main_cos_pic_dist_25_perc\", \"main_cos_pic_dist_50_perc\", \"main_cos_pic_dist_75_perc\"]] = (\n",
    "    test_features[[\"main_pic_embeddings_resnet_v11\", \"main_pic_embeddings_resnet_v12\"]].apply(\n",
    "        lambda x: pd.Series(get_pic_features_func(*x, \"cosine\")), axis=1\n",
    "    )\n",
    ")"
   ]
  },
  {
   "cell_type": "code",
   "execution_count": 112,
   "metadata": {},
   "outputs": [],
   "source": [
    "test_features[\"mean_pic\"] = (\n",
    "    test_features[[\"pic_embeddings_resnet_v11\", \"pic_embeddings_resnet_v12\"]].apply(\n",
    "        lambda x: pd.Series(get_pic_features_mean(*x)), axis=1\n",
    "    )\n",
    ")\n",
    "test_features[\"cos_mean_pic\"] = (\n",
    "    test_features[[\"pic_embeddings_resnet_v11\", \"pic_embeddings_resnet_v12\"]].apply(\n",
    "        lambda x: pd.Series(get_pic_features_mean(*x, \"cosine\")), axis=1\n",
    "    )\n",
    ")\n",
    "\n",
    "test_features[\"main_mean_pic\"] = (\n",
    "    test_features[[\"main_pic_embeddings_resnet_v11\", \"main_pic_embeddings_resnet_v12\"]].apply(\n",
    "        lambda x: pd.Series(get_pic_features_mean(*x)), axis=1\n",
    "    )\n",
    ")\n",
    "test_features[\"main_cos_mean_pic\"] = (\n",
    "    test_features[[\"main_pic_embeddings_resnet_v11\", \"main_pic_embeddings_resnet_v12\"]].apply(\n",
    "        lambda x: pd.Series(get_pic_features_mean(*x, \"cosine\")), axis=1\n",
    "    )\n",
    ")"
   ]
  },
  {
   "cell_type": "code",
   "execution_count": 113,
   "metadata": {},
   "outputs": [],
   "source": [
    "test_features[[\"euclidean_name_bert_dist\", \"cosine_name_bert_dist\"]] = (\n",
    "    test_features[[\"name_bert_641\", \"name_bert_642\"]].apply(\n",
    "        lambda x: pd.Series(text_dense_distances(*x)), axis=1\n",
    "    )\n",
    ")\n"
   ]
  },
  {
   "cell_type": "code",
   "execution_count": 114,
   "metadata": {
    "ExecuteTime": {
     "end_time": "2023-05-19T06:32:40.679595Z",
     "start_time": "2023-05-19T06:32:40.668656Z"
    }
   },
   "outputs": [
    {
     "data": {
      "text/plain": [
       "537"
      ]
     },
     "execution_count": 114,
     "metadata": {},
     "output_type": "execute_result"
    }
   ],
   "source": [
    "test_cat3_counts = test_features[\"cat_31\"].value_counts().to_dict()\n",
    "\n",
    "cntr = 0\n",
    "for cat3 in test_cat3_counts:\n",
    "    if test_cat3_counts[cat3] < 50:\n",
    "        cntr += test_cat3_counts[cat3]\n",
    "        \n",
    "cntr"
   ]
  },
  {
   "cell_type": "code",
   "execution_count": 115,
   "metadata": {
    "ExecuteTime": {
     "end_time": "2023-05-19T06:34:07.170273Z",
     "start_time": "2023-05-19T06:34:07.157474Z"
    }
   },
   "outputs": [],
   "source": [
    "test_features[\"cat3_grouped\"] = test_features[\"cat_31\"].apply(lambda x: x if test_cat3_counts[x] > 50 else \"rest\")\n"
   ]
  },
  {
   "cell_type": "code",
   "execution_count": 116,
   "metadata": {
    "ExecuteTime": {
     "end_time": "2023-05-19T06:34:11.446732Z",
     "start_time": "2023-05-19T06:34:11.382287Z"
    }
   },
   "outputs": [],
   "source": [
    "submission_example = test_features.copy()"
   ]
  },
  {
   "cell_type": "code",
   "execution_count": 117,
   "metadata": {
    "ExecuteTime": {
     "end_time": "2023-05-19T06:34:14.146730Z",
     "start_time": "2023-05-19T06:34:14.086525Z"
    }
   },
   "outputs": [],
   "source": [
    "submission_example[\"target\"] = model.predict_proba(test_features[feats])[:, 1]"
   ]
  },
  {
   "cell_type": "code",
   "execution_count": 118,
   "metadata": {
    "ExecuteTime": {
     "end_time": "2023-05-19T06:34:17.373009Z",
     "start_time": "2023-05-19T06:34:17.357230Z"
    }
   },
   "outputs": [],
   "source": [
    "submission_example = submission_example[[\"variantid1\", \"variantid2\", \"target\"]]"
   ]
  },
  {
   "cell_type": "code",
   "execution_count": 119,
   "metadata": {
    "ExecuteTime": {
     "end_time": "2023-05-19T06:35:41.877989Z",
     "start_time": "2023-05-19T06:35:41.794727Z"
    }
   },
   "outputs": [],
   "source": [
    "submission_example.drop_duplicates().merge(\n",
    "    test_features[[\"variantid1\", \"variantid2\"]].drop_duplicates([\"variantid1\", \"variantid2\"]),\n",
    "    on=[\"variantid1\", \"variantid2\"]\n",
    ").to_csv(\"submission_example2.csv\", index=False)"
   ]
  }
 ],
 "metadata": {
  "kernelspec": {
   "display_name": "Python 3",
   "language": "python",
   "name": "python3"
  },
  "language_info": {
   "codemirror_mode": {
    "name": "ipython",
    "version": 3
   },
   "file_extension": ".py",
   "mimetype": "text/x-python",
   "name": "python",
   "nbconvert_exporter": "python",
   "pygments_lexer": "ipython3",
   "version": "3.10.11"
  }
 },
 "nbformat": 4,
 "nbformat_minor": 4
}
